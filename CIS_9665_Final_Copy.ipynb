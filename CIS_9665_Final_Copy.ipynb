{
  "cells": [
    {
      "cell_type": "markdown",
      "metadata": {
        "id": "view-in-github",
        "colab_type": "text"
      },
      "source": [
        "<a href=\"https://colab.research.google.com/github/jmontoya29/jmontoya29/blob/main/CIS_9665_Final_Copy.ipynb\" target=\"_parent\"><img src=\"https://colab.research.google.com/assets/colab-badge.svg\" alt=\"Open In Colab\"/></a>"
      ]
    },
    {
      "cell_type": "code",
      "execution_count": 1,
      "metadata": {
        "id": "wmp_9pc-Duv0",
        "colab": {
          "base_uri": "https://localhost:8080/",
          "height": 0
        },
        "outputId": "d0eac9b0-51b2-428d-cfba-465a572e8dac"
      },
      "outputs": [
        {
          "output_type": "stream",
          "name": "stdout",
          "text": [
            "Mounted at /content/gdrive\n"
          ]
        }
      ],
      "source": [
        "from google.colab import drive\n",
        "import os\n",
        "drive.mount('/content/gdrive')\n"
      ]
    },
    {
      "cell_type": "markdown",
      "metadata": {
        "id": "50aXC0HLO5dJ"
      },
      "source": [
        "# Import CSV Files"
      ]
    },
    {
      "cell_type": "code",
      "execution_count": 2,
      "metadata": {
        "id": "qWNvT0whBDFu"
      },
      "outputs": [],
      "source": [
        "import pandas as pd\n"
      ]
    },
    {
      "cell_type": "code",
      "execution_count": 3,
      "metadata": {
        "id": "kwkl_ajj9Tf2",
        "colab": {
          "base_uri": "https://localhost:8080/",
          "height": 0
        },
        "outputId": "ec016038-efda-4f5a-c23c-ba60b427989a"
      },
      "outputs": [
        {
          "output_type": "stream",
          "name": "stdout",
          "text": [
            "Shape: (17712, 17)\n",
            "Column Names ['rotten_tomatoes_link' 'movie_title' 'movie_info' 'critics_consensus'\n",
            " 'content_rating' 'genres' 'directors' 'authors' 'actors'\n",
            " 'tomatometer_rating' 'tomatometer_count' 'audience_status'\n",
            " 'audience_rating' 'audience_count' 'tomatometer_top_critics_count'\n",
            " 'tomatometer_fresh_critics_count' 'tomatometer_rotten_critics_count']\n"
          ]
        }
      ],
      "source": [
        "#Dataset variables: rot_movie; rot_review; rate_small; mov_meta\n",
        "rot_movie = pd.read_csv('/content/gdrive/My Drive/CIS 9665/Final Project/rotten_tomatoes_movies.csv')\n",
        "\n",
        "# dropping columns we don't need\n",
        "rot_movie = rot_movie.drop([\"original_release_date\", \"streaming_release_date\", \"runtime\", \"production_company\", \"tomatometer_status\"], axis=1)\n",
        "\n",
        "print (\"Shape:\", rot_movie.shape)\n",
        "print (\"Column Names\",rot_movie.columns.values)\n"
      ]
    },
    {
      "cell_type": "code",
      "execution_count": 4,
      "metadata": {
        "id": "j6EXYC-BA4IQ",
        "colab": {
          "base_uri": "https://localhost:8080/",
          "height": 756
        },
        "outputId": "7ce37c3e-7689-4da5-ce47-96fe237ad908"
      },
      "outputs": [
        {
          "output_type": "execute_result",
          "data": {
            "text/plain": [
              "                    rotten_tomatoes_link  \\\n",
              "0                              m/0814255   \n",
              "1                              m/0878835   \n",
              "2                                   m/10   \n",
              "3                 m/1000013-12_angry_men   \n",
              "4  m/1000079-20000_leagues_under_the_sea   \n",
              "\n",
              "                                         movie_title  \\\n",
              "0  Percy Jackson & the Olympians: The Lightning T...   \n",
              "1                                        Please Give   \n",
              "2                                                 10   \n",
              "3                    12 Angry Men (Twelve Angry Men)   \n",
              "4                       20,000 Leagues Under The Sea   \n",
              "\n",
              "                                          movie_info  \\\n",
              "0  Always trouble-prone, the life of teenager Per...   \n",
              "1  Kate (Catherine Keener) and her husband Alex (...   \n",
              "2  A successful, middle-aged Hollywood songwriter...   \n",
              "3  Following the closing arguments in a murder tr...   \n",
              "4  In 1866, Professor Pierre M. Aronnax (Paul Luk...   \n",
              "\n",
              "                                   critics_consensus content_rating  \\\n",
              "0  Though it may seem like just another Harry Pot...             PG   \n",
              "1  Nicole Holofcener's newest might seem slight i...              R   \n",
              "2  Blake Edwards' bawdy comedy may not score a pe...              R   \n",
              "3  Sidney Lumet's feature debut is a superbly wri...             NR   \n",
              "4  One of Disney's finest live-action adventures,...              G   \n",
              "\n",
              "                                              genres          directors  \\\n",
              "0  Action & Adventure, Comedy, Drama, Science Fic...     Chris Columbus   \n",
              "1                                             Comedy  Nicole Holofcener   \n",
              "2                                    Comedy, Romance      Blake Edwards   \n",
              "3                                    Classics, Drama       Sidney Lumet   \n",
              "4           Action & Adventure, Drama, Kids & Family  Richard Fleischer   \n",
              "\n",
              "                                      authors  \\\n",
              "0  Craig Titley, Chris Columbus, Rick Riordan   \n",
              "1                           Nicole Holofcener   \n",
              "2                               Blake Edwards   \n",
              "3                               Reginald Rose   \n",
              "4                                 Earl Felton   \n",
              "\n",
              "                                              actors  tomatometer_rating  \\\n",
              "0  Logan Lerman, Brandon T. Jackson, Alexandra Da...                49.0   \n",
              "1  Catherine Keener, Amanda Peet, Oliver Platt, R...                87.0   \n",
              "2  Dudley Moore, Bo Derek, Julie Andrews, Robert ...                67.0   \n",
              "3  Martin Balsam, John Fiedler, Lee J. Cobb, E.G....               100.0   \n",
              "4  James Mason, Kirk Douglas, Paul Lukas, Peter L...                89.0   \n",
              "\n",
              "   tomatometer_count audience_status  audience_rating  audience_count  \\\n",
              "0              149.0         Spilled             53.0        254421.0   \n",
              "1              142.0         Upright             64.0         11574.0   \n",
              "2               24.0         Spilled             53.0         14684.0   \n",
              "3               54.0         Upright             97.0        105386.0   \n",
              "4               27.0         Upright             74.0         68918.0   \n",
              "\n",
              "   tomatometer_top_critics_count  tomatometer_fresh_critics_count  \\\n",
              "0                             43                               73   \n",
              "1                             44                              123   \n",
              "2                              2                               16   \n",
              "3                              6                               54   \n",
              "4                              5                               24   \n",
              "\n",
              "   tomatometer_rotten_critics_count  \n",
              "0                                76  \n",
              "1                                19  \n",
              "2                                 8  \n",
              "3                                 0  \n",
              "4                                 3  "
            ],
            "text/html": [
              "\n",
              "  <div id=\"df-9bf26318-80a8-498c-8822-f1b07d07c08b\">\n",
              "    <div class=\"colab-df-container\">\n",
              "      <div>\n",
              "<style scoped>\n",
              "    .dataframe tbody tr th:only-of-type {\n",
              "        vertical-align: middle;\n",
              "    }\n",
              "\n",
              "    .dataframe tbody tr th {\n",
              "        vertical-align: top;\n",
              "    }\n",
              "\n",
              "    .dataframe thead th {\n",
              "        text-align: right;\n",
              "    }\n",
              "</style>\n",
              "<table border=\"1\" class=\"dataframe\">\n",
              "  <thead>\n",
              "    <tr style=\"text-align: right;\">\n",
              "      <th></th>\n",
              "      <th>rotten_tomatoes_link</th>\n",
              "      <th>movie_title</th>\n",
              "      <th>movie_info</th>\n",
              "      <th>critics_consensus</th>\n",
              "      <th>content_rating</th>\n",
              "      <th>genres</th>\n",
              "      <th>directors</th>\n",
              "      <th>authors</th>\n",
              "      <th>actors</th>\n",
              "      <th>tomatometer_rating</th>\n",
              "      <th>tomatometer_count</th>\n",
              "      <th>audience_status</th>\n",
              "      <th>audience_rating</th>\n",
              "      <th>audience_count</th>\n",
              "      <th>tomatometer_top_critics_count</th>\n",
              "      <th>tomatometer_fresh_critics_count</th>\n",
              "      <th>tomatometer_rotten_critics_count</th>\n",
              "    </tr>\n",
              "  </thead>\n",
              "  <tbody>\n",
              "    <tr>\n",
              "      <th>0</th>\n",
              "      <td>m/0814255</td>\n",
              "      <td>Percy Jackson &amp; the Olympians: The Lightning T...</td>\n",
              "      <td>Always trouble-prone, the life of teenager Per...</td>\n",
              "      <td>Though it may seem like just another Harry Pot...</td>\n",
              "      <td>PG</td>\n",
              "      <td>Action &amp; Adventure, Comedy, Drama, Science Fic...</td>\n",
              "      <td>Chris Columbus</td>\n",
              "      <td>Craig Titley, Chris Columbus, Rick Riordan</td>\n",
              "      <td>Logan Lerman, Brandon T. Jackson, Alexandra Da...</td>\n",
              "      <td>49.0</td>\n",
              "      <td>149.0</td>\n",
              "      <td>Spilled</td>\n",
              "      <td>53.0</td>\n",
              "      <td>254421.0</td>\n",
              "      <td>43</td>\n",
              "      <td>73</td>\n",
              "      <td>76</td>\n",
              "    </tr>\n",
              "    <tr>\n",
              "      <th>1</th>\n",
              "      <td>m/0878835</td>\n",
              "      <td>Please Give</td>\n",
              "      <td>Kate (Catherine Keener) and her husband Alex (...</td>\n",
              "      <td>Nicole Holofcener's newest might seem slight i...</td>\n",
              "      <td>R</td>\n",
              "      <td>Comedy</td>\n",
              "      <td>Nicole Holofcener</td>\n",
              "      <td>Nicole Holofcener</td>\n",
              "      <td>Catherine Keener, Amanda Peet, Oliver Platt, R...</td>\n",
              "      <td>87.0</td>\n",
              "      <td>142.0</td>\n",
              "      <td>Upright</td>\n",
              "      <td>64.0</td>\n",
              "      <td>11574.0</td>\n",
              "      <td>44</td>\n",
              "      <td>123</td>\n",
              "      <td>19</td>\n",
              "    </tr>\n",
              "    <tr>\n",
              "      <th>2</th>\n",
              "      <td>m/10</td>\n",
              "      <td>10</td>\n",
              "      <td>A successful, middle-aged Hollywood songwriter...</td>\n",
              "      <td>Blake Edwards' bawdy comedy may not score a pe...</td>\n",
              "      <td>R</td>\n",
              "      <td>Comedy, Romance</td>\n",
              "      <td>Blake Edwards</td>\n",
              "      <td>Blake Edwards</td>\n",
              "      <td>Dudley Moore, Bo Derek, Julie Andrews, Robert ...</td>\n",
              "      <td>67.0</td>\n",
              "      <td>24.0</td>\n",
              "      <td>Spilled</td>\n",
              "      <td>53.0</td>\n",
              "      <td>14684.0</td>\n",
              "      <td>2</td>\n",
              "      <td>16</td>\n",
              "      <td>8</td>\n",
              "    </tr>\n",
              "    <tr>\n",
              "      <th>3</th>\n",
              "      <td>m/1000013-12_angry_men</td>\n",
              "      <td>12 Angry Men (Twelve Angry Men)</td>\n",
              "      <td>Following the closing arguments in a murder tr...</td>\n",
              "      <td>Sidney Lumet's feature debut is a superbly wri...</td>\n",
              "      <td>NR</td>\n",
              "      <td>Classics, Drama</td>\n",
              "      <td>Sidney Lumet</td>\n",
              "      <td>Reginald Rose</td>\n",
              "      <td>Martin Balsam, John Fiedler, Lee J. Cobb, E.G....</td>\n",
              "      <td>100.0</td>\n",
              "      <td>54.0</td>\n",
              "      <td>Upright</td>\n",
              "      <td>97.0</td>\n",
              "      <td>105386.0</td>\n",
              "      <td>6</td>\n",
              "      <td>54</td>\n",
              "      <td>0</td>\n",
              "    </tr>\n",
              "    <tr>\n",
              "      <th>4</th>\n",
              "      <td>m/1000079-20000_leagues_under_the_sea</td>\n",
              "      <td>20,000 Leagues Under The Sea</td>\n",
              "      <td>In 1866, Professor Pierre M. Aronnax (Paul Luk...</td>\n",
              "      <td>One of Disney's finest live-action adventures,...</td>\n",
              "      <td>G</td>\n",
              "      <td>Action &amp; Adventure, Drama, Kids &amp; Family</td>\n",
              "      <td>Richard Fleischer</td>\n",
              "      <td>Earl Felton</td>\n",
              "      <td>James Mason, Kirk Douglas, Paul Lukas, Peter L...</td>\n",
              "      <td>89.0</td>\n",
              "      <td>27.0</td>\n",
              "      <td>Upright</td>\n",
              "      <td>74.0</td>\n",
              "      <td>68918.0</td>\n",
              "      <td>5</td>\n",
              "      <td>24</td>\n",
              "      <td>3</td>\n",
              "    </tr>\n",
              "  </tbody>\n",
              "</table>\n",
              "</div>\n",
              "      <button class=\"colab-df-convert\" onclick=\"convertToInteractive('df-9bf26318-80a8-498c-8822-f1b07d07c08b')\"\n",
              "              title=\"Convert this dataframe to an interactive table.\"\n",
              "              style=\"display:none;\">\n",
              "        \n",
              "  <svg xmlns=\"http://www.w3.org/2000/svg\" height=\"24px\"viewBox=\"0 0 24 24\"\n",
              "       width=\"24px\">\n",
              "    <path d=\"M0 0h24v24H0V0z\" fill=\"none\"/>\n",
              "    <path d=\"M18.56 5.44l.94 2.06.94-2.06 2.06-.94-2.06-.94-.94-2.06-.94 2.06-2.06.94zm-11 1L8.5 8.5l.94-2.06 2.06-.94-2.06-.94L8.5 2.5l-.94 2.06-2.06.94zm10 10l.94 2.06.94-2.06 2.06-.94-2.06-.94-.94-2.06-.94 2.06-2.06.94z\"/><path d=\"M17.41 7.96l-1.37-1.37c-.4-.4-.92-.59-1.43-.59-.52 0-1.04.2-1.43.59L10.3 9.45l-7.72 7.72c-.78.78-.78 2.05 0 2.83L4 21.41c.39.39.9.59 1.41.59.51 0 1.02-.2 1.41-.59l7.78-7.78 2.81-2.81c.8-.78.8-2.07 0-2.86zM5.41 20L4 18.59l7.72-7.72 1.47 1.35L5.41 20z\"/>\n",
              "  </svg>\n",
              "      </button>\n",
              "      \n",
              "  <style>\n",
              "    .colab-df-container {\n",
              "      display:flex;\n",
              "      flex-wrap:wrap;\n",
              "      gap: 12px;\n",
              "    }\n",
              "\n",
              "    .colab-df-convert {\n",
              "      background-color: #E8F0FE;\n",
              "      border: none;\n",
              "      border-radius: 50%;\n",
              "      cursor: pointer;\n",
              "      display: none;\n",
              "      fill: #1967D2;\n",
              "      height: 32px;\n",
              "      padding: 0 0 0 0;\n",
              "      width: 32px;\n",
              "    }\n",
              "\n",
              "    .colab-df-convert:hover {\n",
              "      background-color: #E2EBFA;\n",
              "      box-shadow: 0px 1px 2px rgba(60, 64, 67, 0.3), 0px 1px 3px 1px rgba(60, 64, 67, 0.15);\n",
              "      fill: #174EA6;\n",
              "    }\n",
              "\n",
              "    [theme=dark] .colab-df-convert {\n",
              "      background-color: #3B4455;\n",
              "      fill: #D2E3FC;\n",
              "    }\n",
              "\n",
              "    [theme=dark] .colab-df-convert:hover {\n",
              "      background-color: #434B5C;\n",
              "      box-shadow: 0px 1px 3px 1px rgba(0, 0, 0, 0.15);\n",
              "      filter: drop-shadow(0px 1px 2px rgba(0, 0, 0, 0.3));\n",
              "      fill: #FFFFFF;\n",
              "    }\n",
              "  </style>\n",
              "\n",
              "      <script>\n",
              "        const buttonEl =\n",
              "          document.querySelector('#df-9bf26318-80a8-498c-8822-f1b07d07c08b button.colab-df-convert');\n",
              "        buttonEl.style.display =\n",
              "          google.colab.kernel.accessAllowed ? 'block' : 'none';\n",
              "\n",
              "        async function convertToInteractive(key) {\n",
              "          const element = document.querySelector('#df-9bf26318-80a8-498c-8822-f1b07d07c08b');\n",
              "          const dataTable =\n",
              "            await google.colab.kernel.invokeFunction('convertToInteractive',\n",
              "                                                     [key], {});\n",
              "          if (!dataTable) return;\n",
              "\n",
              "          const docLinkHtml = 'Like what you see? Visit the ' +\n",
              "            '<a target=\"_blank\" href=https://colab.research.google.com/notebooks/data_table.ipynb>data table notebook</a>'\n",
              "            + ' to learn more about interactive tables.';\n",
              "          element.innerHTML = '';\n",
              "          dataTable['output_type'] = 'display_data';\n",
              "          await google.colab.output.renderOutput(dataTable, element);\n",
              "          const docLink = document.createElement('div');\n",
              "          docLink.innerHTML = docLinkHtml;\n",
              "          element.appendChild(docLink);\n",
              "        }\n",
              "      </script>\n",
              "    </div>\n",
              "  </div>\n",
              "  "
            ]
          },
          "metadata": {},
          "execution_count": 4
        }
      ],
      "source": [
        "rot_movie.head()"
      ]
    },
    {
      "cell_type": "code",
      "execution_count": 5,
      "metadata": {
        "id": "fiH6OFri9-5j",
        "colab": {
          "base_uri": "https://localhost:8080/",
          "height": 0
        },
        "outputId": "0851d4b9-4359-488c-dff4-f6a379579f8e"
      },
      "outputs": [
        {
          "output_type": "stream",
          "name": "stdout",
          "text": [
            "Shape: (1130017, 7)\n",
            "Column Names ['rotten_tomatoes_link' 'critic_name' 'top_critic' 'publisher_name'\n",
            " 'review_type' 'review_score' 'review_content']\n"
          ]
        }
      ],
      "source": [
        "rot_review = pd.read_csv('/content/gdrive/My Drive/CIS 9665/Final Project/rotten_tomatoes_critic_reviews.csv')\n",
        "\n",
        "# dropping columns we dont need\n",
        "rot_review = rot_review.drop([\"review_date\"], axis=1)\n",
        "\n",
        "print (\"Shape:\", rot_review.shape)\n",
        "print (\"Column Names\",rot_review.columns.values)\n"
      ]
    },
    {
      "cell_type": "code",
      "execution_count": 6,
      "metadata": {
        "id": "uH5f3ac5BPzR",
        "colab": {
          "base_uri": "https://localhost:8080/",
          "height": 206
        },
        "outputId": "c81aa11b-9625-477d-ed02-2db533e514ee"
      },
      "outputs": [
        {
          "output_type": "execute_result",
          "data": {
            "text/plain": [
              "  rotten_tomatoes_link      critic_name  top_critic           publisher_name  \\\n",
              "0            m/0814255  Andrew L. Urban       False           Urban Cinefile   \n",
              "1            m/0814255    Louise Keller       False           Urban Cinefile   \n",
              "2            m/0814255              NaN       False      FILMINK (Australia)   \n",
              "3            m/0814255     Ben McEachen       False  Sunday Mail (Australia)   \n",
              "4            m/0814255      Ethan Alter        True       Hollywood Reporter   \n",
              "\n",
              "  review_type review_score                                     review_content  \n",
              "0       Fresh          NaN  A fantasy adventure that fuses Greek mythology...  \n",
              "1       Fresh          NaN  Uma Thurman as Medusa, the gorgon with a coiff...  \n",
              "2       Fresh          NaN  With a top-notch cast and dazzling special eff...  \n",
              "3       Fresh        3.5/5  Whether audiences will get behind The Lightnin...  \n",
              "4      Rotten          NaN  What's really lacking in The Lightning Thief i...  "
            ],
            "text/html": [
              "\n",
              "  <div id=\"df-988a39e9-e9a3-4611-a575-b5828861992e\">\n",
              "    <div class=\"colab-df-container\">\n",
              "      <div>\n",
              "<style scoped>\n",
              "    .dataframe tbody tr th:only-of-type {\n",
              "        vertical-align: middle;\n",
              "    }\n",
              "\n",
              "    .dataframe tbody tr th {\n",
              "        vertical-align: top;\n",
              "    }\n",
              "\n",
              "    .dataframe thead th {\n",
              "        text-align: right;\n",
              "    }\n",
              "</style>\n",
              "<table border=\"1\" class=\"dataframe\">\n",
              "  <thead>\n",
              "    <tr style=\"text-align: right;\">\n",
              "      <th></th>\n",
              "      <th>rotten_tomatoes_link</th>\n",
              "      <th>critic_name</th>\n",
              "      <th>top_critic</th>\n",
              "      <th>publisher_name</th>\n",
              "      <th>review_type</th>\n",
              "      <th>review_score</th>\n",
              "      <th>review_content</th>\n",
              "    </tr>\n",
              "  </thead>\n",
              "  <tbody>\n",
              "    <tr>\n",
              "      <th>0</th>\n",
              "      <td>m/0814255</td>\n",
              "      <td>Andrew L. Urban</td>\n",
              "      <td>False</td>\n",
              "      <td>Urban Cinefile</td>\n",
              "      <td>Fresh</td>\n",
              "      <td>NaN</td>\n",
              "      <td>A fantasy adventure that fuses Greek mythology...</td>\n",
              "    </tr>\n",
              "    <tr>\n",
              "      <th>1</th>\n",
              "      <td>m/0814255</td>\n",
              "      <td>Louise Keller</td>\n",
              "      <td>False</td>\n",
              "      <td>Urban Cinefile</td>\n",
              "      <td>Fresh</td>\n",
              "      <td>NaN</td>\n",
              "      <td>Uma Thurman as Medusa, the gorgon with a coiff...</td>\n",
              "    </tr>\n",
              "    <tr>\n",
              "      <th>2</th>\n",
              "      <td>m/0814255</td>\n",
              "      <td>NaN</td>\n",
              "      <td>False</td>\n",
              "      <td>FILMINK (Australia)</td>\n",
              "      <td>Fresh</td>\n",
              "      <td>NaN</td>\n",
              "      <td>With a top-notch cast and dazzling special eff...</td>\n",
              "    </tr>\n",
              "    <tr>\n",
              "      <th>3</th>\n",
              "      <td>m/0814255</td>\n",
              "      <td>Ben McEachen</td>\n",
              "      <td>False</td>\n",
              "      <td>Sunday Mail (Australia)</td>\n",
              "      <td>Fresh</td>\n",
              "      <td>3.5/5</td>\n",
              "      <td>Whether audiences will get behind The Lightnin...</td>\n",
              "    </tr>\n",
              "    <tr>\n",
              "      <th>4</th>\n",
              "      <td>m/0814255</td>\n",
              "      <td>Ethan Alter</td>\n",
              "      <td>True</td>\n",
              "      <td>Hollywood Reporter</td>\n",
              "      <td>Rotten</td>\n",
              "      <td>NaN</td>\n",
              "      <td>What's really lacking in The Lightning Thief i...</td>\n",
              "    </tr>\n",
              "  </tbody>\n",
              "</table>\n",
              "</div>\n",
              "      <button class=\"colab-df-convert\" onclick=\"convertToInteractive('df-988a39e9-e9a3-4611-a575-b5828861992e')\"\n",
              "              title=\"Convert this dataframe to an interactive table.\"\n",
              "              style=\"display:none;\">\n",
              "        \n",
              "  <svg xmlns=\"http://www.w3.org/2000/svg\" height=\"24px\"viewBox=\"0 0 24 24\"\n",
              "       width=\"24px\">\n",
              "    <path d=\"M0 0h24v24H0V0z\" fill=\"none\"/>\n",
              "    <path d=\"M18.56 5.44l.94 2.06.94-2.06 2.06-.94-2.06-.94-.94-2.06-.94 2.06-2.06.94zm-11 1L8.5 8.5l.94-2.06 2.06-.94-2.06-.94L8.5 2.5l-.94 2.06-2.06.94zm10 10l.94 2.06.94-2.06 2.06-.94-2.06-.94-.94-2.06-.94 2.06-2.06.94z\"/><path d=\"M17.41 7.96l-1.37-1.37c-.4-.4-.92-.59-1.43-.59-.52 0-1.04.2-1.43.59L10.3 9.45l-7.72 7.72c-.78.78-.78 2.05 0 2.83L4 21.41c.39.39.9.59 1.41.59.51 0 1.02-.2 1.41-.59l7.78-7.78 2.81-2.81c.8-.78.8-2.07 0-2.86zM5.41 20L4 18.59l7.72-7.72 1.47 1.35L5.41 20z\"/>\n",
              "  </svg>\n",
              "      </button>\n",
              "      \n",
              "  <style>\n",
              "    .colab-df-container {\n",
              "      display:flex;\n",
              "      flex-wrap:wrap;\n",
              "      gap: 12px;\n",
              "    }\n",
              "\n",
              "    .colab-df-convert {\n",
              "      background-color: #E8F0FE;\n",
              "      border: none;\n",
              "      border-radius: 50%;\n",
              "      cursor: pointer;\n",
              "      display: none;\n",
              "      fill: #1967D2;\n",
              "      height: 32px;\n",
              "      padding: 0 0 0 0;\n",
              "      width: 32px;\n",
              "    }\n",
              "\n",
              "    .colab-df-convert:hover {\n",
              "      background-color: #E2EBFA;\n",
              "      box-shadow: 0px 1px 2px rgba(60, 64, 67, 0.3), 0px 1px 3px 1px rgba(60, 64, 67, 0.15);\n",
              "      fill: #174EA6;\n",
              "    }\n",
              "\n",
              "    [theme=dark] .colab-df-convert {\n",
              "      background-color: #3B4455;\n",
              "      fill: #D2E3FC;\n",
              "    }\n",
              "\n",
              "    [theme=dark] .colab-df-convert:hover {\n",
              "      background-color: #434B5C;\n",
              "      box-shadow: 0px 1px 3px 1px rgba(0, 0, 0, 0.15);\n",
              "      filter: drop-shadow(0px 1px 2px rgba(0, 0, 0, 0.3));\n",
              "      fill: #FFFFFF;\n",
              "    }\n",
              "  </style>\n",
              "\n",
              "      <script>\n",
              "        const buttonEl =\n",
              "          document.querySelector('#df-988a39e9-e9a3-4611-a575-b5828861992e button.colab-df-convert');\n",
              "        buttonEl.style.display =\n",
              "          google.colab.kernel.accessAllowed ? 'block' : 'none';\n",
              "\n",
              "        async function convertToInteractive(key) {\n",
              "          const element = document.querySelector('#df-988a39e9-e9a3-4611-a575-b5828861992e');\n",
              "          const dataTable =\n",
              "            await google.colab.kernel.invokeFunction('convertToInteractive',\n",
              "                                                     [key], {});\n",
              "          if (!dataTable) return;\n",
              "\n",
              "          const docLinkHtml = 'Like what you see? Visit the ' +\n",
              "            '<a target=\"_blank\" href=https://colab.research.google.com/notebooks/data_table.ipynb>data table notebook</a>'\n",
              "            + ' to learn more about interactive tables.';\n",
              "          element.innerHTML = '';\n",
              "          dataTable['output_type'] = 'display_data';\n",
              "          await google.colab.output.renderOutput(dataTable, element);\n",
              "          const docLink = document.createElement('div');\n",
              "          docLink.innerHTML = docLinkHtml;\n",
              "          element.appendChild(docLink);\n",
              "        }\n",
              "      </script>\n",
              "    </div>\n",
              "  </div>\n",
              "  "
            ]
          },
          "metadata": {},
          "execution_count": 6
        }
      ],
      "source": [
        "rot_review.head()"
      ]
    },
    {
      "cell_type": "code",
      "execution_count": 7,
      "metadata": {
        "id": "9Yj-_z8d-fkg",
        "colab": {
          "base_uri": "https://localhost:8080/",
          "height": 0
        },
        "outputId": "3cd55bcf-305f-495c-e792-57c4b2784bfc"
      },
      "outputs": [
        {
          "output_type": "stream",
          "name": "stdout",
          "text": [
            "Shape: (100004, 2)\n",
            "Column Names ['movieId' 'rating']\n"
          ]
        }
      ],
      "source": [
        "rate_small = pd.read_csv('/content/gdrive/My Drive/CIS 9665/Final Project/ratings_small.csv')\n",
        "\n",
        "# dropping columns we dont need\n",
        "rate_small = rate_small.drop([\"timestamp\", \"userId\"], axis=1)\n",
        "\n",
        "print (\"Shape:\", rate_small.shape)\n",
        "print (\"Column Names\",rate_small.columns.values)\n"
      ]
    },
    {
      "cell_type": "code",
      "execution_count": 8,
      "metadata": {
        "id": "LV24wokkBTd6",
        "colab": {
          "base_uri": "https://localhost:8080/",
          "height": 206
        },
        "outputId": "67eb1dbe-3ed1-4aa0-b6f8-a36f066c75df"
      },
      "outputs": [
        {
          "output_type": "execute_result",
          "data": {
            "text/plain": [
              "   movieId  rating\n",
              "0       31     2.5\n",
              "1     1029     3.0\n",
              "2     1061     3.0\n",
              "3     1129     2.0\n",
              "4     1172     4.0"
            ],
            "text/html": [
              "\n",
              "  <div id=\"df-78c34884-5c03-4f2b-87d1-74e1250f7433\">\n",
              "    <div class=\"colab-df-container\">\n",
              "      <div>\n",
              "<style scoped>\n",
              "    .dataframe tbody tr th:only-of-type {\n",
              "        vertical-align: middle;\n",
              "    }\n",
              "\n",
              "    .dataframe tbody tr th {\n",
              "        vertical-align: top;\n",
              "    }\n",
              "\n",
              "    .dataframe thead th {\n",
              "        text-align: right;\n",
              "    }\n",
              "</style>\n",
              "<table border=\"1\" class=\"dataframe\">\n",
              "  <thead>\n",
              "    <tr style=\"text-align: right;\">\n",
              "      <th></th>\n",
              "      <th>movieId</th>\n",
              "      <th>rating</th>\n",
              "    </tr>\n",
              "  </thead>\n",
              "  <tbody>\n",
              "    <tr>\n",
              "      <th>0</th>\n",
              "      <td>31</td>\n",
              "      <td>2.5</td>\n",
              "    </tr>\n",
              "    <tr>\n",
              "      <th>1</th>\n",
              "      <td>1029</td>\n",
              "      <td>3.0</td>\n",
              "    </tr>\n",
              "    <tr>\n",
              "      <th>2</th>\n",
              "      <td>1061</td>\n",
              "      <td>3.0</td>\n",
              "    </tr>\n",
              "    <tr>\n",
              "      <th>3</th>\n",
              "      <td>1129</td>\n",
              "      <td>2.0</td>\n",
              "    </tr>\n",
              "    <tr>\n",
              "      <th>4</th>\n",
              "      <td>1172</td>\n",
              "      <td>4.0</td>\n",
              "    </tr>\n",
              "  </tbody>\n",
              "</table>\n",
              "</div>\n",
              "      <button class=\"colab-df-convert\" onclick=\"convertToInteractive('df-78c34884-5c03-4f2b-87d1-74e1250f7433')\"\n",
              "              title=\"Convert this dataframe to an interactive table.\"\n",
              "              style=\"display:none;\">\n",
              "        \n",
              "  <svg xmlns=\"http://www.w3.org/2000/svg\" height=\"24px\"viewBox=\"0 0 24 24\"\n",
              "       width=\"24px\">\n",
              "    <path d=\"M0 0h24v24H0V0z\" fill=\"none\"/>\n",
              "    <path d=\"M18.56 5.44l.94 2.06.94-2.06 2.06-.94-2.06-.94-.94-2.06-.94 2.06-2.06.94zm-11 1L8.5 8.5l.94-2.06 2.06-.94-2.06-.94L8.5 2.5l-.94 2.06-2.06.94zm10 10l.94 2.06.94-2.06 2.06-.94-2.06-.94-.94-2.06-.94 2.06-2.06.94z\"/><path d=\"M17.41 7.96l-1.37-1.37c-.4-.4-.92-.59-1.43-.59-.52 0-1.04.2-1.43.59L10.3 9.45l-7.72 7.72c-.78.78-.78 2.05 0 2.83L4 21.41c.39.39.9.59 1.41.59.51 0 1.02-.2 1.41-.59l7.78-7.78 2.81-2.81c.8-.78.8-2.07 0-2.86zM5.41 20L4 18.59l7.72-7.72 1.47 1.35L5.41 20z\"/>\n",
              "  </svg>\n",
              "      </button>\n",
              "      \n",
              "  <style>\n",
              "    .colab-df-container {\n",
              "      display:flex;\n",
              "      flex-wrap:wrap;\n",
              "      gap: 12px;\n",
              "    }\n",
              "\n",
              "    .colab-df-convert {\n",
              "      background-color: #E8F0FE;\n",
              "      border: none;\n",
              "      border-radius: 50%;\n",
              "      cursor: pointer;\n",
              "      display: none;\n",
              "      fill: #1967D2;\n",
              "      height: 32px;\n",
              "      padding: 0 0 0 0;\n",
              "      width: 32px;\n",
              "    }\n",
              "\n",
              "    .colab-df-convert:hover {\n",
              "      background-color: #E2EBFA;\n",
              "      box-shadow: 0px 1px 2px rgba(60, 64, 67, 0.3), 0px 1px 3px 1px rgba(60, 64, 67, 0.15);\n",
              "      fill: #174EA6;\n",
              "    }\n",
              "\n",
              "    [theme=dark] .colab-df-convert {\n",
              "      background-color: #3B4455;\n",
              "      fill: #D2E3FC;\n",
              "    }\n",
              "\n",
              "    [theme=dark] .colab-df-convert:hover {\n",
              "      background-color: #434B5C;\n",
              "      box-shadow: 0px 1px 3px 1px rgba(0, 0, 0, 0.15);\n",
              "      filter: drop-shadow(0px 1px 2px rgba(0, 0, 0, 0.3));\n",
              "      fill: #FFFFFF;\n",
              "    }\n",
              "  </style>\n",
              "\n",
              "      <script>\n",
              "        const buttonEl =\n",
              "          document.querySelector('#df-78c34884-5c03-4f2b-87d1-74e1250f7433 button.colab-df-convert');\n",
              "        buttonEl.style.display =\n",
              "          google.colab.kernel.accessAllowed ? 'block' : 'none';\n",
              "\n",
              "        async function convertToInteractive(key) {\n",
              "          const element = document.querySelector('#df-78c34884-5c03-4f2b-87d1-74e1250f7433');\n",
              "          const dataTable =\n",
              "            await google.colab.kernel.invokeFunction('convertToInteractive',\n",
              "                                                     [key], {});\n",
              "          if (!dataTable) return;\n",
              "\n",
              "          const docLinkHtml = 'Like what you see? Visit the ' +\n",
              "            '<a target=\"_blank\" href=https://colab.research.google.com/notebooks/data_table.ipynb>data table notebook</a>'\n",
              "            + ' to learn more about interactive tables.';\n",
              "          element.innerHTML = '';\n",
              "          dataTable['output_type'] = 'display_data';\n",
              "          await google.colab.output.renderOutput(dataTable, element);\n",
              "          const docLink = document.createElement('div');\n",
              "          docLink.innerHTML = docLinkHtml;\n",
              "          element.appendChild(docLink);\n",
              "        }\n",
              "      </script>\n",
              "    </div>\n",
              "  </div>\n",
              "  "
            ]
          },
          "metadata": {},
          "execution_count": 8
        }
      ],
      "source": [
        "rate_small.head()"
      ]
    },
    {
      "cell_type": "code",
      "execution_count": 9,
      "metadata": {
        "id": "pOKXydKB-w0z",
        "colab": {
          "base_uri": "https://localhost:8080/",
          "height": 0
        },
        "outputId": "5cbf45e6-29ac-4c58-96ef-e2cf928df0af"
      },
      "outputs": [
        {
          "output_type": "stream",
          "name": "stdout",
          "text": [
            "Shape: (45466, 18)\n",
            "Column Names ['budget' 'genres' 'id' 'imdb_id' 'original_language' 'original_title'\n",
            " 'overview' 'popularity' 'production_companies' 'production_countries'\n",
            " 'release_date' 'revenue' 'spoken_languages' 'tagline' 'title' 'video'\n",
            " 'vote_average' 'vote_count']\n"
          ]
        },
        {
          "output_type": "stream",
          "name": "stderr",
          "text": [
            "<ipython-input-9-f0daabba524e>:1: DtypeWarning: Columns (10) have mixed types. Specify dtype option on import or set low_memory=False.\n",
            "  mov_meta = pd.read_csv('/content/gdrive/My Drive/CIS 9665/Final Project/movies_metadata.csv')\n"
          ]
        }
      ],
      "source": [
        "mov_meta = pd.read_csv('/content/gdrive/My Drive/CIS 9665/Final Project/movies_metadata.csv')\n",
        "\n",
        "# dropping columns we dont need\n",
        "mov_meta = mov_meta.drop([\"adult\", \"homepage\", \"runtime\", \"status\", \"belongs_to_collection\", \"poster_path\"], axis=1)\n",
        "\n",
        "print (\"Shape:\", mov_meta.shape)\n",
        "print (\"Column Names\",mov_meta.columns.values)\n"
      ]
    },
    {
      "cell_type": "code",
      "execution_count": 10,
      "metadata": {
        "id": "67e5RmntBWCk",
        "colab": {
          "base_uri": "https://localhost:8080/",
          "height": 721
        },
        "outputId": "dc7b2594-5d02-49fd-feb9-647fda4fb6d6"
      },
      "outputs": [
        {
          "output_type": "execute_result",
          "data": {
            "text/plain": [
              "     budget                                             genres     id  \\\n",
              "0  30000000  [{'id': 16, 'name': 'Animation'}, {'id': 35, '...    862   \n",
              "1  65000000  [{'id': 12, 'name': 'Adventure'}, {'id': 14, '...   8844   \n",
              "2         0  [{'id': 10749, 'name': 'Romance'}, {'id': 35, ...  15602   \n",
              "3  16000000  [{'id': 35, 'name': 'Comedy'}, {'id': 18, 'nam...  31357   \n",
              "4         0                     [{'id': 35, 'name': 'Comedy'}]  11862   \n",
              "\n",
              "     imdb_id original_language               original_title  \\\n",
              "0  tt0114709                en                    Toy Story   \n",
              "1  tt0113497                en                      Jumanji   \n",
              "2  tt0113228                en             Grumpier Old Men   \n",
              "3  tt0114885                en            Waiting to Exhale   \n",
              "4  tt0113041                en  Father of the Bride Part II   \n",
              "\n",
              "                                            overview popularity  \\\n",
              "0  Led by Woody, Andy's toys live happily in his ...  21.946943   \n",
              "1  When siblings Judy and Peter discover an encha...  17.015539   \n",
              "2  A family wedding reignites the ancient feud be...    11.7129   \n",
              "3  Cheated on, mistreated and stepped on, the wom...   3.859495   \n",
              "4  Just when George Banks has recovered from his ...   8.387519   \n",
              "\n",
              "                                production_companies  \\\n",
              "0     [{'name': 'Pixar Animation Studios', 'id': 3}]   \n",
              "1  [{'name': 'TriStar Pictures', 'id': 559}, {'na...   \n",
              "2  [{'name': 'Warner Bros.', 'id': 6194}, {'name'...   \n",
              "3  [{'name': 'Twentieth Century Fox Film Corporat...   \n",
              "4  [{'name': 'Sandollar Productions', 'id': 5842}...   \n",
              "\n",
              "                                production_countries release_date  \\\n",
              "0  [{'iso_3166_1': 'US', 'name': 'United States o...   1995-10-30   \n",
              "1  [{'iso_3166_1': 'US', 'name': 'United States o...   1995-12-15   \n",
              "2  [{'iso_3166_1': 'US', 'name': 'United States o...   1995-12-22   \n",
              "3  [{'iso_3166_1': 'US', 'name': 'United States o...   1995-12-22   \n",
              "4  [{'iso_3166_1': 'US', 'name': 'United States o...   1995-02-10   \n",
              "\n",
              "       revenue                                   spoken_languages  \\\n",
              "0  373554033.0           [{'iso_639_1': 'en', 'name': 'English'}]   \n",
              "1  262797249.0  [{'iso_639_1': 'en', 'name': 'English'}, {'iso...   \n",
              "2          0.0           [{'iso_639_1': 'en', 'name': 'English'}]   \n",
              "3   81452156.0           [{'iso_639_1': 'en', 'name': 'English'}]   \n",
              "4   76578911.0           [{'iso_639_1': 'en', 'name': 'English'}]   \n",
              "\n",
              "                                             tagline  \\\n",
              "0                                                NaN   \n",
              "1          Roll the dice and unleash the excitement!   \n",
              "2  Still Yelling. Still Fighting. Still Ready for...   \n",
              "3  Friends are the people who let you be yourself...   \n",
              "4  Just When His World Is Back To Normal... He's ...   \n",
              "\n",
              "                         title  video  vote_average  vote_count  \n",
              "0                    Toy Story  False           7.7      5415.0  \n",
              "1                      Jumanji  False           6.9      2413.0  \n",
              "2             Grumpier Old Men  False           6.5        92.0  \n",
              "3            Waiting to Exhale  False           6.1        34.0  \n",
              "4  Father of the Bride Part II  False           5.7       173.0  "
            ],
            "text/html": [
              "\n",
              "  <div id=\"df-1645996f-5b85-46fb-8b58-a7e78214c8a3\">\n",
              "    <div class=\"colab-df-container\">\n",
              "      <div>\n",
              "<style scoped>\n",
              "    .dataframe tbody tr th:only-of-type {\n",
              "        vertical-align: middle;\n",
              "    }\n",
              "\n",
              "    .dataframe tbody tr th {\n",
              "        vertical-align: top;\n",
              "    }\n",
              "\n",
              "    .dataframe thead th {\n",
              "        text-align: right;\n",
              "    }\n",
              "</style>\n",
              "<table border=\"1\" class=\"dataframe\">\n",
              "  <thead>\n",
              "    <tr style=\"text-align: right;\">\n",
              "      <th></th>\n",
              "      <th>budget</th>\n",
              "      <th>genres</th>\n",
              "      <th>id</th>\n",
              "      <th>imdb_id</th>\n",
              "      <th>original_language</th>\n",
              "      <th>original_title</th>\n",
              "      <th>overview</th>\n",
              "      <th>popularity</th>\n",
              "      <th>production_companies</th>\n",
              "      <th>production_countries</th>\n",
              "      <th>release_date</th>\n",
              "      <th>revenue</th>\n",
              "      <th>spoken_languages</th>\n",
              "      <th>tagline</th>\n",
              "      <th>title</th>\n",
              "      <th>video</th>\n",
              "      <th>vote_average</th>\n",
              "      <th>vote_count</th>\n",
              "    </tr>\n",
              "  </thead>\n",
              "  <tbody>\n",
              "    <tr>\n",
              "      <th>0</th>\n",
              "      <td>30000000</td>\n",
              "      <td>[{'id': 16, 'name': 'Animation'}, {'id': 35, '...</td>\n",
              "      <td>862</td>\n",
              "      <td>tt0114709</td>\n",
              "      <td>en</td>\n",
              "      <td>Toy Story</td>\n",
              "      <td>Led by Woody, Andy's toys live happily in his ...</td>\n",
              "      <td>21.946943</td>\n",
              "      <td>[{'name': 'Pixar Animation Studios', 'id': 3}]</td>\n",
              "      <td>[{'iso_3166_1': 'US', 'name': 'United States o...</td>\n",
              "      <td>1995-10-30</td>\n",
              "      <td>373554033.0</td>\n",
              "      <td>[{'iso_639_1': 'en', 'name': 'English'}]</td>\n",
              "      <td>NaN</td>\n",
              "      <td>Toy Story</td>\n",
              "      <td>False</td>\n",
              "      <td>7.7</td>\n",
              "      <td>5415.0</td>\n",
              "    </tr>\n",
              "    <tr>\n",
              "      <th>1</th>\n",
              "      <td>65000000</td>\n",
              "      <td>[{'id': 12, 'name': 'Adventure'}, {'id': 14, '...</td>\n",
              "      <td>8844</td>\n",
              "      <td>tt0113497</td>\n",
              "      <td>en</td>\n",
              "      <td>Jumanji</td>\n",
              "      <td>When siblings Judy and Peter discover an encha...</td>\n",
              "      <td>17.015539</td>\n",
              "      <td>[{'name': 'TriStar Pictures', 'id': 559}, {'na...</td>\n",
              "      <td>[{'iso_3166_1': 'US', 'name': 'United States o...</td>\n",
              "      <td>1995-12-15</td>\n",
              "      <td>262797249.0</td>\n",
              "      <td>[{'iso_639_1': 'en', 'name': 'English'}, {'iso...</td>\n",
              "      <td>Roll the dice and unleash the excitement!</td>\n",
              "      <td>Jumanji</td>\n",
              "      <td>False</td>\n",
              "      <td>6.9</td>\n",
              "      <td>2413.0</td>\n",
              "    </tr>\n",
              "    <tr>\n",
              "      <th>2</th>\n",
              "      <td>0</td>\n",
              "      <td>[{'id': 10749, 'name': 'Romance'}, {'id': 35, ...</td>\n",
              "      <td>15602</td>\n",
              "      <td>tt0113228</td>\n",
              "      <td>en</td>\n",
              "      <td>Grumpier Old Men</td>\n",
              "      <td>A family wedding reignites the ancient feud be...</td>\n",
              "      <td>11.7129</td>\n",
              "      <td>[{'name': 'Warner Bros.', 'id': 6194}, {'name'...</td>\n",
              "      <td>[{'iso_3166_1': 'US', 'name': 'United States o...</td>\n",
              "      <td>1995-12-22</td>\n",
              "      <td>0.0</td>\n",
              "      <td>[{'iso_639_1': 'en', 'name': 'English'}]</td>\n",
              "      <td>Still Yelling. Still Fighting. Still Ready for...</td>\n",
              "      <td>Grumpier Old Men</td>\n",
              "      <td>False</td>\n",
              "      <td>6.5</td>\n",
              "      <td>92.0</td>\n",
              "    </tr>\n",
              "    <tr>\n",
              "      <th>3</th>\n",
              "      <td>16000000</td>\n",
              "      <td>[{'id': 35, 'name': 'Comedy'}, {'id': 18, 'nam...</td>\n",
              "      <td>31357</td>\n",
              "      <td>tt0114885</td>\n",
              "      <td>en</td>\n",
              "      <td>Waiting to Exhale</td>\n",
              "      <td>Cheated on, mistreated and stepped on, the wom...</td>\n",
              "      <td>3.859495</td>\n",
              "      <td>[{'name': 'Twentieth Century Fox Film Corporat...</td>\n",
              "      <td>[{'iso_3166_1': 'US', 'name': 'United States o...</td>\n",
              "      <td>1995-12-22</td>\n",
              "      <td>81452156.0</td>\n",
              "      <td>[{'iso_639_1': 'en', 'name': 'English'}]</td>\n",
              "      <td>Friends are the people who let you be yourself...</td>\n",
              "      <td>Waiting to Exhale</td>\n",
              "      <td>False</td>\n",
              "      <td>6.1</td>\n",
              "      <td>34.0</td>\n",
              "    </tr>\n",
              "    <tr>\n",
              "      <th>4</th>\n",
              "      <td>0</td>\n",
              "      <td>[{'id': 35, 'name': 'Comedy'}]</td>\n",
              "      <td>11862</td>\n",
              "      <td>tt0113041</td>\n",
              "      <td>en</td>\n",
              "      <td>Father of the Bride Part II</td>\n",
              "      <td>Just when George Banks has recovered from his ...</td>\n",
              "      <td>8.387519</td>\n",
              "      <td>[{'name': 'Sandollar Productions', 'id': 5842}...</td>\n",
              "      <td>[{'iso_3166_1': 'US', 'name': 'United States o...</td>\n",
              "      <td>1995-02-10</td>\n",
              "      <td>76578911.0</td>\n",
              "      <td>[{'iso_639_1': 'en', 'name': 'English'}]</td>\n",
              "      <td>Just When His World Is Back To Normal... He's ...</td>\n",
              "      <td>Father of the Bride Part II</td>\n",
              "      <td>False</td>\n",
              "      <td>5.7</td>\n",
              "      <td>173.0</td>\n",
              "    </tr>\n",
              "  </tbody>\n",
              "</table>\n",
              "</div>\n",
              "      <button class=\"colab-df-convert\" onclick=\"convertToInteractive('df-1645996f-5b85-46fb-8b58-a7e78214c8a3')\"\n",
              "              title=\"Convert this dataframe to an interactive table.\"\n",
              "              style=\"display:none;\">\n",
              "        \n",
              "  <svg xmlns=\"http://www.w3.org/2000/svg\" height=\"24px\"viewBox=\"0 0 24 24\"\n",
              "       width=\"24px\">\n",
              "    <path d=\"M0 0h24v24H0V0z\" fill=\"none\"/>\n",
              "    <path d=\"M18.56 5.44l.94 2.06.94-2.06 2.06-.94-2.06-.94-.94-2.06-.94 2.06-2.06.94zm-11 1L8.5 8.5l.94-2.06 2.06-.94-2.06-.94L8.5 2.5l-.94 2.06-2.06.94zm10 10l.94 2.06.94-2.06 2.06-.94-2.06-.94-.94-2.06-.94 2.06-2.06.94z\"/><path d=\"M17.41 7.96l-1.37-1.37c-.4-.4-.92-.59-1.43-.59-.52 0-1.04.2-1.43.59L10.3 9.45l-7.72 7.72c-.78.78-.78 2.05 0 2.83L4 21.41c.39.39.9.59 1.41.59.51 0 1.02-.2 1.41-.59l7.78-7.78 2.81-2.81c.8-.78.8-2.07 0-2.86zM5.41 20L4 18.59l7.72-7.72 1.47 1.35L5.41 20z\"/>\n",
              "  </svg>\n",
              "      </button>\n",
              "      \n",
              "  <style>\n",
              "    .colab-df-container {\n",
              "      display:flex;\n",
              "      flex-wrap:wrap;\n",
              "      gap: 12px;\n",
              "    }\n",
              "\n",
              "    .colab-df-convert {\n",
              "      background-color: #E8F0FE;\n",
              "      border: none;\n",
              "      border-radius: 50%;\n",
              "      cursor: pointer;\n",
              "      display: none;\n",
              "      fill: #1967D2;\n",
              "      height: 32px;\n",
              "      padding: 0 0 0 0;\n",
              "      width: 32px;\n",
              "    }\n",
              "\n",
              "    .colab-df-convert:hover {\n",
              "      background-color: #E2EBFA;\n",
              "      box-shadow: 0px 1px 2px rgba(60, 64, 67, 0.3), 0px 1px 3px 1px rgba(60, 64, 67, 0.15);\n",
              "      fill: #174EA6;\n",
              "    }\n",
              "\n",
              "    [theme=dark] .colab-df-convert {\n",
              "      background-color: #3B4455;\n",
              "      fill: #D2E3FC;\n",
              "    }\n",
              "\n",
              "    [theme=dark] .colab-df-convert:hover {\n",
              "      background-color: #434B5C;\n",
              "      box-shadow: 0px 1px 3px 1px rgba(0, 0, 0, 0.15);\n",
              "      filter: drop-shadow(0px 1px 2px rgba(0, 0, 0, 0.3));\n",
              "      fill: #FFFFFF;\n",
              "    }\n",
              "  </style>\n",
              "\n",
              "      <script>\n",
              "        const buttonEl =\n",
              "          document.querySelector('#df-1645996f-5b85-46fb-8b58-a7e78214c8a3 button.colab-df-convert');\n",
              "        buttonEl.style.display =\n",
              "          google.colab.kernel.accessAllowed ? 'block' : 'none';\n",
              "\n",
              "        async function convertToInteractive(key) {\n",
              "          const element = document.querySelector('#df-1645996f-5b85-46fb-8b58-a7e78214c8a3');\n",
              "          const dataTable =\n",
              "            await google.colab.kernel.invokeFunction('convertToInteractive',\n",
              "                                                     [key], {});\n",
              "          if (!dataTable) return;\n",
              "\n",
              "          const docLinkHtml = 'Like what you see? Visit the ' +\n",
              "            '<a target=\"_blank\" href=https://colab.research.google.com/notebooks/data_table.ipynb>data table notebook</a>'\n",
              "            + ' to learn more about interactive tables.';\n",
              "          element.innerHTML = '';\n",
              "          dataTable['output_type'] = 'display_data';\n",
              "          await google.colab.output.renderOutput(dataTable, element);\n",
              "          const docLink = document.createElement('div');\n",
              "          docLink.innerHTML = docLinkHtml;\n",
              "          element.appendChild(docLink);\n",
              "        }\n",
              "      </script>\n",
              "    </div>\n",
              "  </div>\n",
              "  "
            ]
          },
          "metadata": {},
          "execution_count": 10
        }
      ],
      "source": [
        "mov_meta.head()"
      ]
    },
    {
      "cell_type": "code",
      "execution_count": 11,
      "metadata": {
        "id": "Jg7R9x6z-9Jl",
        "colab": {
          "base_uri": "https://localhost:8080/",
          "height": 820
        },
        "outputId": "a6fe9ccc-c65b-40fd-bae9-128b5bebe36b"
      },
      "outputs": [
        {
          "output_type": "execute_result",
          "data": {
            "text/plain": [
              "  rotten_tomatoes_link      critic_name  top_critic           publisher_name  \\\n",
              "0            m/0814255  Andrew L. Urban       False           Urban Cinefile   \n",
              "1            m/0814255    Louise Keller       False           Urban Cinefile   \n",
              "2            m/0814255              NaN       False      FILMINK (Australia)   \n",
              "3            m/0814255     Ben McEachen       False  Sunday Mail (Australia)   \n",
              "4            m/0814255      Ethan Alter        True       Hollywood Reporter   \n",
              "\n",
              "  review_type review_score                                     review_content  \\\n",
              "0       Fresh          NaN  A fantasy adventure that fuses Greek mythology...   \n",
              "1       Fresh          NaN  Uma Thurman as Medusa, the gorgon with a coiff...   \n",
              "2       Fresh          NaN  With a top-notch cast and dazzling special eff...   \n",
              "3       Fresh        3.5/5  Whether audiences will get behind The Lightnin...   \n",
              "4      Rotten          NaN  What's really lacking in The Lightning Thief i...   \n",
              "\n",
              "                                         movie_title  \\\n",
              "0  Percy Jackson & the Olympians: The Lightning T...   \n",
              "1  Percy Jackson & the Olympians: The Lightning T...   \n",
              "2  Percy Jackson & the Olympians: The Lightning T...   \n",
              "3  Percy Jackson & the Olympians: The Lightning T...   \n",
              "4  Percy Jackson & the Olympians: The Lightning T...   \n",
              "\n",
              "                                          movie_info  \\\n",
              "0  Always trouble-prone, the life of teenager Per...   \n",
              "1  Always trouble-prone, the life of teenager Per...   \n",
              "2  Always trouble-prone, the life of teenager Per...   \n",
              "3  Always trouble-prone, the life of teenager Per...   \n",
              "4  Always trouble-prone, the life of teenager Per...   \n",
              "\n",
              "                                   critics_consensus  ...  \\\n",
              "0  Though it may seem like just another Harry Pot...  ...   \n",
              "1  Though it may seem like just another Harry Pot...  ...   \n",
              "2  Though it may seem like just another Harry Pot...  ...   \n",
              "3  Though it may seem like just another Harry Pot...  ...   \n",
              "4  Though it may seem like just another Harry Pot...  ...   \n",
              "\n",
              "                                      authors  \\\n",
              "0  Craig Titley, Chris Columbus, Rick Riordan   \n",
              "1  Craig Titley, Chris Columbus, Rick Riordan   \n",
              "2  Craig Titley, Chris Columbus, Rick Riordan   \n",
              "3  Craig Titley, Chris Columbus, Rick Riordan   \n",
              "4  Craig Titley, Chris Columbus, Rick Riordan   \n",
              "\n",
              "                                              actors tomatometer_rating  \\\n",
              "0  Logan Lerman, Brandon T. Jackson, Alexandra Da...               49.0   \n",
              "1  Logan Lerman, Brandon T. Jackson, Alexandra Da...               49.0   \n",
              "2  Logan Lerman, Brandon T. Jackson, Alexandra Da...               49.0   \n",
              "3  Logan Lerman, Brandon T. Jackson, Alexandra Da...               49.0   \n",
              "4  Logan Lerman, Brandon T. Jackson, Alexandra Da...               49.0   \n",
              "\n",
              "  tomatometer_count audience_status  audience_rating  audience_count  \\\n",
              "0             149.0         Spilled             53.0        254421.0   \n",
              "1             149.0         Spilled             53.0        254421.0   \n",
              "2             149.0         Spilled             53.0        254421.0   \n",
              "3             149.0         Spilled             53.0        254421.0   \n",
              "4             149.0         Spilled             53.0        254421.0   \n",
              "\n",
              "  tomatometer_top_critics_count  tomatometer_fresh_critics_count  \\\n",
              "0                            43                               73   \n",
              "1                            43                               73   \n",
              "2                            43                               73   \n",
              "3                            43                               73   \n",
              "4                            43                               73   \n",
              "\n",
              "   tomatometer_rotten_critics_count  \n",
              "0                                76  \n",
              "1                                76  \n",
              "2                                76  \n",
              "3                                76  \n",
              "4                                76  \n",
              "\n",
              "[5 rows x 23 columns]"
            ],
            "text/html": [
              "\n",
              "  <div id=\"df-fe281db4-a05f-44d4-a855-cdcfabbae82e\">\n",
              "    <div class=\"colab-df-container\">\n",
              "      <div>\n",
              "<style scoped>\n",
              "    .dataframe tbody tr th:only-of-type {\n",
              "        vertical-align: middle;\n",
              "    }\n",
              "\n",
              "    .dataframe tbody tr th {\n",
              "        vertical-align: top;\n",
              "    }\n",
              "\n",
              "    .dataframe thead th {\n",
              "        text-align: right;\n",
              "    }\n",
              "</style>\n",
              "<table border=\"1\" class=\"dataframe\">\n",
              "  <thead>\n",
              "    <tr style=\"text-align: right;\">\n",
              "      <th></th>\n",
              "      <th>rotten_tomatoes_link</th>\n",
              "      <th>critic_name</th>\n",
              "      <th>top_critic</th>\n",
              "      <th>publisher_name</th>\n",
              "      <th>review_type</th>\n",
              "      <th>review_score</th>\n",
              "      <th>review_content</th>\n",
              "      <th>movie_title</th>\n",
              "      <th>movie_info</th>\n",
              "      <th>critics_consensus</th>\n",
              "      <th>...</th>\n",
              "      <th>authors</th>\n",
              "      <th>actors</th>\n",
              "      <th>tomatometer_rating</th>\n",
              "      <th>tomatometer_count</th>\n",
              "      <th>audience_status</th>\n",
              "      <th>audience_rating</th>\n",
              "      <th>audience_count</th>\n",
              "      <th>tomatometer_top_critics_count</th>\n",
              "      <th>tomatometer_fresh_critics_count</th>\n",
              "      <th>tomatometer_rotten_critics_count</th>\n",
              "    </tr>\n",
              "  </thead>\n",
              "  <tbody>\n",
              "    <tr>\n",
              "      <th>0</th>\n",
              "      <td>m/0814255</td>\n",
              "      <td>Andrew L. Urban</td>\n",
              "      <td>False</td>\n",
              "      <td>Urban Cinefile</td>\n",
              "      <td>Fresh</td>\n",
              "      <td>NaN</td>\n",
              "      <td>A fantasy adventure that fuses Greek mythology...</td>\n",
              "      <td>Percy Jackson &amp; the Olympians: The Lightning T...</td>\n",
              "      <td>Always trouble-prone, the life of teenager Per...</td>\n",
              "      <td>Though it may seem like just another Harry Pot...</td>\n",
              "      <td>...</td>\n",
              "      <td>Craig Titley, Chris Columbus, Rick Riordan</td>\n",
              "      <td>Logan Lerman, Brandon T. Jackson, Alexandra Da...</td>\n",
              "      <td>49.0</td>\n",
              "      <td>149.0</td>\n",
              "      <td>Spilled</td>\n",
              "      <td>53.0</td>\n",
              "      <td>254421.0</td>\n",
              "      <td>43</td>\n",
              "      <td>73</td>\n",
              "      <td>76</td>\n",
              "    </tr>\n",
              "    <tr>\n",
              "      <th>1</th>\n",
              "      <td>m/0814255</td>\n",
              "      <td>Louise Keller</td>\n",
              "      <td>False</td>\n",
              "      <td>Urban Cinefile</td>\n",
              "      <td>Fresh</td>\n",
              "      <td>NaN</td>\n",
              "      <td>Uma Thurman as Medusa, the gorgon with a coiff...</td>\n",
              "      <td>Percy Jackson &amp; the Olympians: The Lightning T...</td>\n",
              "      <td>Always trouble-prone, the life of teenager Per...</td>\n",
              "      <td>Though it may seem like just another Harry Pot...</td>\n",
              "      <td>...</td>\n",
              "      <td>Craig Titley, Chris Columbus, Rick Riordan</td>\n",
              "      <td>Logan Lerman, Brandon T. Jackson, Alexandra Da...</td>\n",
              "      <td>49.0</td>\n",
              "      <td>149.0</td>\n",
              "      <td>Spilled</td>\n",
              "      <td>53.0</td>\n",
              "      <td>254421.0</td>\n",
              "      <td>43</td>\n",
              "      <td>73</td>\n",
              "      <td>76</td>\n",
              "    </tr>\n",
              "    <tr>\n",
              "      <th>2</th>\n",
              "      <td>m/0814255</td>\n",
              "      <td>NaN</td>\n",
              "      <td>False</td>\n",
              "      <td>FILMINK (Australia)</td>\n",
              "      <td>Fresh</td>\n",
              "      <td>NaN</td>\n",
              "      <td>With a top-notch cast and dazzling special eff...</td>\n",
              "      <td>Percy Jackson &amp; the Olympians: The Lightning T...</td>\n",
              "      <td>Always trouble-prone, the life of teenager Per...</td>\n",
              "      <td>Though it may seem like just another Harry Pot...</td>\n",
              "      <td>...</td>\n",
              "      <td>Craig Titley, Chris Columbus, Rick Riordan</td>\n",
              "      <td>Logan Lerman, Brandon T. Jackson, Alexandra Da...</td>\n",
              "      <td>49.0</td>\n",
              "      <td>149.0</td>\n",
              "      <td>Spilled</td>\n",
              "      <td>53.0</td>\n",
              "      <td>254421.0</td>\n",
              "      <td>43</td>\n",
              "      <td>73</td>\n",
              "      <td>76</td>\n",
              "    </tr>\n",
              "    <tr>\n",
              "      <th>3</th>\n",
              "      <td>m/0814255</td>\n",
              "      <td>Ben McEachen</td>\n",
              "      <td>False</td>\n",
              "      <td>Sunday Mail (Australia)</td>\n",
              "      <td>Fresh</td>\n",
              "      <td>3.5/5</td>\n",
              "      <td>Whether audiences will get behind The Lightnin...</td>\n",
              "      <td>Percy Jackson &amp; the Olympians: The Lightning T...</td>\n",
              "      <td>Always trouble-prone, the life of teenager Per...</td>\n",
              "      <td>Though it may seem like just another Harry Pot...</td>\n",
              "      <td>...</td>\n",
              "      <td>Craig Titley, Chris Columbus, Rick Riordan</td>\n",
              "      <td>Logan Lerman, Brandon T. Jackson, Alexandra Da...</td>\n",
              "      <td>49.0</td>\n",
              "      <td>149.0</td>\n",
              "      <td>Spilled</td>\n",
              "      <td>53.0</td>\n",
              "      <td>254421.0</td>\n",
              "      <td>43</td>\n",
              "      <td>73</td>\n",
              "      <td>76</td>\n",
              "    </tr>\n",
              "    <tr>\n",
              "      <th>4</th>\n",
              "      <td>m/0814255</td>\n",
              "      <td>Ethan Alter</td>\n",
              "      <td>True</td>\n",
              "      <td>Hollywood Reporter</td>\n",
              "      <td>Rotten</td>\n",
              "      <td>NaN</td>\n",
              "      <td>What's really lacking in The Lightning Thief i...</td>\n",
              "      <td>Percy Jackson &amp; the Olympians: The Lightning T...</td>\n",
              "      <td>Always trouble-prone, the life of teenager Per...</td>\n",
              "      <td>Though it may seem like just another Harry Pot...</td>\n",
              "      <td>...</td>\n",
              "      <td>Craig Titley, Chris Columbus, Rick Riordan</td>\n",
              "      <td>Logan Lerman, Brandon T. Jackson, Alexandra Da...</td>\n",
              "      <td>49.0</td>\n",
              "      <td>149.0</td>\n",
              "      <td>Spilled</td>\n",
              "      <td>53.0</td>\n",
              "      <td>254421.0</td>\n",
              "      <td>43</td>\n",
              "      <td>73</td>\n",
              "      <td>76</td>\n",
              "    </tr>\n",
              "  </tbody>\n",
              "</table>\n",
              "<p>5 rows × 23 columns</p>\n",
              "</div>\n",
              "      <button class=\"colab-df-convert\" onclick=\"convertToInteractive('df-fe281db4-a05f-44d4-a855-cdcfabbae82e')\"\n",
              "              title=\"Convert this dataframe to an interactive table.\"\n",
              "              style=\"display:none;\">\n",
              "        \n",
              "  <svg xmlns=\"http://www.w3.org/2000/svg\" height=\"24px\"viewBox=\"0 0 24 24\"\n",
              "       width=\"24px\">\n",
              "    <path d=\"M0 0h24v24H0V0z\" fill=\"none\"/>\n",
              "    <path d=\"M18.56 5.44l.94 2.06.94-2.06 2.06-.94-2.06-.94-.94-2.06-.94 2.06-2.06.94zm-11 1L8.5 8.5l.94-2.06 2.06-.94-2.06-.94L8.5 2.5l-.94 2.06-2.06.94zm10 10l.94 2.06.94-2.06 2.06-.94-2.06-.94-.94-2.06-.94 2.06-2.06.94z\"/><path d=\"M17.41 7.96l-1.37-1.37c-.4-.4-.92-.59-1.43-.59-.52 0-1.04.2-1.43.59L10.3 9.45l-7.72 7.72c-.78.78-.78 2.05 0 2.83L4 21.41c.39.39.9.59 1.41.59.51 0 1.02-.2 1.41-.59l7.78-7.78 2.81-2.81c.8-.78.8-2.07 0-2.86zM5.41 20L4 18.59l7.72-7.72 1.47 1.35L5.41 20z\"/>\n",
              "  </svg>\n",
              "      </button>\n",
              "      \n",
              "  <style>\n",
              "    .colab-df-container {\n",
              "      display:flex;\n",
              "      flex-wrap:wrap;\n",
              "      gap: 12px;\n",
              "    }\n",
              "\n",
              "    .colab-df-convert {\n",
              "      background-color: #E8F0FE;\n",
              "      border: none;\n",
              "      border-radius: 50%;\n",
              "      cursor: pointer;\n",
              "      display: none;\n",
              "      fill: #1967D2;\n",
              "      height: 32px;\n",
              "      padding: 0 0 0 0;\n",
              "      width: 32px;\n",
              "    }\n",
              "\n",
              "    .colab-df-convert:hover {\n",
              "      background-color: #E2EBFA;\n",
              "      box-shadow: 0px 1px 2px rgba(60, 64, 67, 0.3), 0px 1px 3px 1px rgba(60, 64, 67, 0.15);\n",
              "      fill: #174EA6;\n",
              "    }\n",
              "\n",
              "    [theme=dark] .colab-df-convert {\n",
              "      background-color: #3B4455;\n",
              "      fill: #D2E3FC;\n",
              "    }\n",
              "\n",
              "    [theme=dark] .colab-df-convert:hover {\n",
              "      background-color: #434B5C;\n",
              "      box-shadow: 0px 1px 3px 1px rgba(0, 0, 0, 0.15);\n",
              "      filter: drop-shadow(0px 1px 2px rgba(0, 0, 0, 0.3));\n",
              "      fill: #FFFFFF;\n",
              "    }\n",
              "  </style>\n",
              "\n",
              "      <script>\n",
              "        const buttonEl =\n",
              "          document.querySelector('#df-fe281db4-a05f-44d4-a855-cdcfabbae82e button.colab-df-convert');\n",
              "        buttonEl.style.display =\n",
              "          google.colab.kernel.accessAllowed ? 'block' : 'none';\n",
              "\n",
              "        async function convertToInteractive(key) {\n",
              "          const element = document.querySelector('#df-fe281db4-a05f-44d4-a855-cdcfabbae82e');\n",
              "          const dataTable =\n",
              "            await google.colab.kernel.invokeFunction('convertToInteractive',\n",
              "                                                     [key], {});\n",
              "          if (!dataTable) return;\n",
              "\n",
              "          const docLinkHtml = 'Like what you see? Visit the ' +\n",
              "            '<a target=\"_blank\" href=https://colab.research.google.com/notebooks/data_table.ipynb>data table notebook</a>'\n",
              "            + ' to learn more about interactive tables.';\n",
              "          element.innerHTML = '';\n",
              "          dataTable['output_type'] = 'display_data';\n",
              "          await google.colab.output.renderOutput(dataTable, element);\n",
              "          const docLink = document.createElement('div');\n",
              "          docLink.innerHTML = docLinkHtml;\n",
              "          element.appendChild(docLink);\n",
              "        }\n",
              "      </script>\n",
              "    </div>\n",
              "  </div>\n",
              "  "
            ]
          },
          "metadata": {},
          "execution_count": 11
        }
      ],
      "source": [
        "# Merge rotten CSV\n",
        "merged_rot = rot_review.merge(rot_movie, on='rotten_tomatoes_link', how='inner')\n",
        "merged_rot.head()"
      ]
    },
    {
      "cell_type": "code",
      "execution_count": 12,
      "metadata": {
        "id": "RoCWJBNoF_hU",
        "colab": {
          "base_uri": "https://localhost:8080/",
          "height": 206
        },
        "outputId": "7e114465-60ed-4482-b8db-7b058d0ccbda"
      },
      "outputs": [
        {
          "output_type": "execute_result",
          "data": {
            "text/plain": [
              "     id  rating\n",
              "0    31     2.5\n",
              "1  1029     3.0\n",
              "2  1061     3.0\n",
              "3  1129     2.0\n",
              "4  1172     4.0"
            ],
            "text/html": [
              "\n",
              "  <div id=\"df-de549ae5-43c6-4a0d-a684-5e21869242bb\">\n",
              "    <div class=\"colab-df-container\">\n",
              "      <div>\n",
              "<style scoped>\n",
              "    .dataframe tbody tr th:only-of-type {\n",
              "        vertical-align: middle;\n",
              "    }\n",
              "\n",
              "    .dataframe tbody tr th {\n",
              "        vertical-align: top;\n",
              "    }\n",
              "\n",
              "    .dataframe thead th {\n",
              "        text-align: right;\n",
              "    }\n",
              "</style>\n",
              "<table border=\"1\" class=\"dataframe\">\n",
              "  <thead>\n",
              "    <tr style=\"text-align: right;\">\n",
              "      <th></th>\n",
              "      <th>id</th>\n",
              "      <th>rating</th>\n",
              "    </tr>\n",
              "  </thead>\n",
              "  <tbody>\n",
              "    <tr>\n",
              "      <th>0</th>\n",
              "      <td>31</td>\n",
              "      <td>2.5</td>\n",
              "    </tr>\n",
              "    <tr>\n",
              "      <th>1</th>\n",
              "      <td>1029</td>\n",
              "      <td>3.0</td>\n",
              "    </tr>\n",
              "    <tr>\n",
              "      <th>2</th>\n",
              "      <td>1061</td>\n",
              "      <td>3.0</td>\n",
              "    </tr>\n",
              "    <tr>\n",
              "      <th>3</th>\n",
              "      <td>1129</td>\n",
              "      <td>2.0</td>\n",
              "    </tr>\n",
              "    <tr>\n",
              "      <th>4</th>\n",
              "      <td>1172</td>\n",
              "      <td>4.0</td>\n",
              "    </tr>\n",
              "  </tbody>\n",
              "</table>\n",
              "</div>\n",
              "      <button class=\"colab-df-convert\" onclick=\"convertToInteractive('df-de549ae5-43c6-4a0d-a684-5e21869242bb')\"\n",
              "              title=\"Convert this dataframe to an interactive table.\"\n",
              "              style=\"display:none;\">\n",
              "        \n",
              "  <svg xmlns=\"http://www.w3.org/2000/svg\" height=\"24px\"viewBox=\"0 0 24 24\"\n",
              "       width=\"24px\">\n",
              "    <path d=\"M0 0h24v24H0V0z\" fill=\"none\"/>\n",
              "    <path d=\"M18.56 5.44l.94 2.06.94-2.06 2.06-.94-2.06-.94-.94-2.06-.94 2.06-2.06.94zm-11 1L8.5 8.5l.94-2.06 2.06-.94-2.06-.94L8.5 2.5l-.94 2.06-2.06.94zm10 10l.94 2.06.94-2.06 2.06-.94-2.06-.94-.94-2.06-.94 2.06-2.06.94z\"/><path d=\"M17.41 7.96l-1.37-1.37c-.4-.4-.92-.59-1.43-.59-.52 0-1.04.2-1.43.59L10.3 9.45l-7.72 7.72c-.78.78-.78 2.05 0 2.83L4 21.41c.39.39.9.59 1.41.59.51 0 1.02-.2 1.41-.59l7.78-7.78 2.81-2.81c.8-.78.8-2.07 0-2.86zM5.41 20L4 18.59l7.72-7.72 1.47 1.35L5.41 20z\"/>\n",
              "  </svg>\n",
              "      </button>\n",
              "      \n",
              "  <style>\n",
              "    .colab-df-container {\n",
              "      display:flex;\n",
              "      flex-wrap:wrap;\n",
              "      gap: 12px;\n",
              "    }\n",
              "\n",
              "    .colab-df-convert {\n",
              "      background-color: #E8F0FE;\n",
              "      border: none;\n",
              "      border-radius: 50%;\n",
              "      cursor: pointer;\n",
              "      display: none;\n",
              "      fill: #1967D2;\n",
              "      height: 32px;\n",
              "      padding: 0 0 0 0;\n",
              "      width: 32px;\n",
              "    }\n",
              "\n",
              "    .colab-df-convert:hover {\n",
              "      background-color: #E2EBFA;\n",
              "      box-shadow: 0px 1px 2px rgba(60, 64, 67, 0.3), 0px 1px 3px 1px rgba(60, 64, 67, 0.15);\n",
              "      fill: #174EA6;\n",
              "    }\n",
              "\n",
              "    [theme=dark] .colab-df-convert {\n",
              "      background-color: #3B4455;\n",
              "      fill: #D2E3FC;\n",
              "    }\n",
              "\n",
              "    [theme=dark] .colab-df-convert:hover {\n",
              "      background-color: #434B5C;\n",
              "      box-shadow: 0px 1px 3px 1px rgba(0, 0, 0, 0.15);\n",
              "      filter: drop-shadow(0px 1px 2px rgba(0, 0, 0, 0.3));\n",
              "      fill: #FFFFFF;\n",
              "    }\n",
              "  </style>\n",
              "\n",
              "      <script>\n",
              "        const buttonEl =\n",
              "          document.querySelector('#df-de549ae5-43c6-4a0d-a684-5e21869242bb button.colab-df-convert');\n",
              "        buttonEl.style.display =\n",
              "          google.colab.kernel.accessAllowed ? 'block' : 'none';\n",
              "\n",
              "        async function convertToInteractive(key) {\n",
              "          const element = document.querySelector('#df-de549ae5-43c6-4a0d-a684-5e21869242bb');\n",
              "          const dataTable =\n",
              "            await google.colab.kernel.invokeFunction('convertToInteractive',\n",
              "                                                     [key], {});\n",
              "          if (!dataTable) return;\n",
              "\n",
              "          const docLinkHtml = 'Like what you see? Visit the ' +\n",
              "            '<a target=\"_blank\" href=https://colab.research.google.com/notebooks/data_table.ipynb>data table notebook</a>'\n",
              "            + ' to learn more about interactive tables.';\n",
              "          element.innerHTML = '';\n",
              "          dataTable['output_type'] = 'display_data';\n",
              "          await google.colab.output.renderOutput(dataTable, element);\n",
              "          const docLink = document.createElement('div');\n",
              "          docLink.innerHTML = docLinkHtml;\n",
              "          element.appendChild(docLink);\n",
              "        }\n",
              "      </script>\n",
              "    </div>\n",
              "  </div>\n",
              "  "
            ]
          },
          "metadata": {},
          "execution_count": 12
        }
      ],
      "source": [
        "re_rate_small = rate_small.rename(columns={'movieId': 'id'})\n",
        "re_rate_small.head()"
      ]
    },
    {
      "cell_type": "markdown",
      "metadata": {
        "id": "XpG5w_XUOhrl"
      },
      "source": [
        "# Merging data"
      ]
    },
    {
      "cell_type": "code",
      "execution_count": 13,
      "metadata": {
        "id": "f2Ky23OAGvoN"
      },
      "outputs": [],
      "source": [
        "# Change type before merging\n",
        "re_rate_small['id']=re_rate_small['id'].astype(str)\n",
        "mov_meta['id']=mov_meta['id'].astype(str)"
      ]
    },
    {
      "cell_type": "code",
      "execution_count": 14,
      "metadata": {
        "id": "ygKNkghZFKdg",
        "colab": {
          "base_uri": "https://localhost:8080/",
          "height": 617
        },
        "outputId": "19bed250-adff-4113-8bcf-40a8e35baf14"
      },
      "outputs": [
        {
          "output_type": "execute_result",
          "data": {
            "text/plain": [
              "     budget                                             genres   id  \\\n",
              "0  60000000  [{'id': 28, 'name': 'Action'}, {'id': 80, 'nam...  949   \n",
              "1  60000000  [{'id': 28, 'name': 'Action'}, {'id': 80, 'nam...  949   \n",
              "2  60000000  [{'id': 28, 'name': 'Action'}, {'id': 80, 'nam...  949   \n",
              "3  60000000  [{'id': 28, 'name': 'Action'}, {'id': 80, 'nam...  949   \n",
              "4  60000000  [{'id': 28, 'name': 'Action'}, {'id': 80, 'nam...  949   \n",
              "\n",
              "     imdb_id original_language original_title  \\\n",
              "0  tt0113277                en           Heat   \n",
              "1  tt0113277                en           Heat   \n",
              "2  tt0113277                en           Heat   \n",
              "3  tt0113277                en           Heat   \n",
              "4  tt0113277                en           Heat   \n",
              "\n",
              "                                            overview popularity  \\\n",
              "0  Obsessive master thief, Neil McCauley leads a ...  17.924927   \n",
              "1  Obsessive master thief, Neil McCauley leads a ...  17.924927   \n",
              "2  Obsessive master thief, Neil McCauley leads a ...  17.924927   \n",
              "3  Obsessive master thief, Neil McCauley leads a ...  17.924927   \n",
              "4  Obsessive master thief, Neil McCauley leads a ...  17.924927   \n",
              "\n",
              "                                production_companies  \\\n",
              "0  [{'name': 'Regency Enterprises', 'id': 508}, {...   \n",
              "1  [{'name': 'Regency Enterprises', 'id': 508}, {...   \n",
              "2  [{'name': 'Regency Enterprises', 'id': 508}, {...   \n",
              "3  [{'name': 'Regency Enterprises', 'id': 508}, {...   \n",
              "4  [{'name': 'Regency Enterprises', 'id': 508}, {...   \n",
              "\n",
              "                                production_countries release_date  \\\n",
              "0  [{'iso_3166_1': 'US', 'name': 'United States o...   1995-12-15   \n",
              "1  [{'iso_3166_1': 'US', 'name': 'United States o...   1995-12-15   \n",
              "2  [{'iso_3166_1': 'US', 'name': 'United States o...   1995-12-15   \n",
              "3  [{'iso_3166_1': 'US', 'name': 'United States o...   1995-12-15   \n",
              "4  [{'iso_3166_1': 'US', 'name': 'United States o...   1995-12-15   \n",
              "\n",
              "       revenue                                   spoken_languages  \\\n",
              "0  187436818.0  [{'iso_639_1': 'en', 'name': 'English'}, {'iso...   \n",
              "1  187436818.0  [{'iso_639_1': 'en', 'name': 'English'}, {'iso...   \n",
              "2  187436818.0  [{'iso_639_1': 'en', 'name': 'English'}, {'iso...   \n",
              "3  187436818.0  [{'iso_639_1': 'en', 'name': 'English'}, {'iso...   \n",
              "4  187436818.0  [{'iso_639_1': 'en', 'name': 'English'}, {'iso...   \n",
              "\n",
              "                    tagline title  video  vote_average  vote_count  rating  \n",
              "0  A Los Angeles Crime Saga  Heat  False           7.7      1886.0     3.5  \n",
              "1  A Los Angeles Crime Saga  Heat  False           7.7      1886.0     4.0  \n",
              "2  A Los Angeles Crime Saga  Heat  False           7.7      1886.0     2.0  \n",
              "3  A Los Angeles Crime Saga  Heat  False           7.7      1886.0     5.0  \n",
              "4  A Los Angeles Crime Saga  Heat  False           7.7      1886.0     3.0  "
            ],
            "text/html": [
              "\n",
              "  <div id=\"df-cf9f0643-499c-4abd-9603-ac74e3c3c7ed\">\n",
              "    <div class=\"colab-df-container\">\n",
              "      <div>\n",
              "<style scoped>\n",
              "    .dataframe tbody tr th:only-of-type {\n",
              "        vertical-align: middle;\n",
              "    }\n",
              "\n",
              "    .dataframe tbody tr th {\n",
              "        vertical-align: top;\n",
              "    }\n",
              "\n",
              "    .dataframe thead th {\n",
              "        text-align: right;\n",
              "    }\n",
              "</style>\n",
              "<table border=\"1\" class=\"dataframe\">\n",
              "  <thead>\n",
              "    <tr style=\"text-align: right;\">\n",
              "      <th></th>\n",
              "      <th>budget</th>\n",
              "      <th>genres</th>\n",
              "      <th>id</th>\n",
              "      <th>imdb_id</th>\n",
              "      <th>original_language</th>\n",
              "      <th>original_title</th>\n",
              "      <th>overview</th>\n",
              "      <th>popularity</th>\n",
              "      <th>production_companies</th>\n",
              "      <th>production_countries</th>\n",
              "      <th>release_date</th>\n",
              "      <th>revenue</th>\n",
              "      <th>spoken_languages</th>\n",
              "      <th>tagline</th>\n",
              "      <th>title</th>\n",
              "      <th>video</th>\n",
              "      <th>vote_average</th>\n",
              "      <th>vote_count</th>\n",
              "      <th>rating</th>\n",
              "    </tr>\n",
              "  </thead>\n",
              "  <tbody>\n",
              "    <tr>\n",
              "      <th>0</th>\n",
              "      <td>60000000</td>\n",
              "      <td>[{'id': 28, 'name': 'Action'}, {'id': 80, 'nam...</td>\n",
              "      <td>949</td>\n",
              "      <td>tt0113277</td>\n",
              "      <td>en</td>\n",
              "      <td>Heat</td>\n",
              "      <td>Obsessive master thief, Neil McCauley leads a ...</td>\n",
              "      <td>17.924927</td>\n",
              "      <td>[{'name': 'Regency Enterprises', 'id': 508}, {...</td>\n",
              "      <td>[{'iso_3166_1': 'US', 'name': 'United States o...</td>\n",
              "      <td>1995-12-15</td>\n",
              "      <td>187436818.0</td>\n",
              "      <td>[{'iso_639_1': 'en', 'name': 'English'}, {'iso...</td>\n",
              "      <td>A Los Angeles Crime Saga</td>\n",
              "      <td>Heat</td>\n",
              "      <td>False</td>\n",
              "      <td>7.7</td>\n",
              "      <td>1886.0</td>\n",
              "      <td>3.5</td>\n",
              "    </tr>\n",
              "    <tr>\n",
              "      <th>1</th>\n",
              "      <td>60000000</td>\n",
              "      <td>[{'id': 28, 'name': 'Action'}, {'id': 80, 'nam...</td>\n",
              "      <td>949</td>\n",
              "      <td>tt0113277</td>\n",
              "      <td>en</td>\n",
              "      <td>Heat</td>\n",
              "      <td>Obsessive master thief, Neil McCauley leads a ...</td>\n",
              "      <td>17.924927</td>\n",
              "      <td>[{'name': 'Regency Enterprises', 'id': 508}, {...</td>\n",
              "      <td>[{'iso_3166_1': 'US', 'name': 'United States o...</td>\n",
              "      <td>1995-12-15</td>\n",
              "      <td>187436818.0</td>\n",
              "      <td>[{'iso_639_1': 'en', 'name': 'English'}, {'iso...</td>\n",
              "      <td>A Los Angeles Crime Saga</td>\n",
              "      <td>Heat</td>\n",
              "      <td>False</td>\n",
              "      <td>7.7</td>\n",
              "      <td>1886.0</td>\n",
              "      <td>4.0</td>\n",
              "    </tr>\n",
              "    <tr>\n",
              "      <th>2</th>\n",
              "      <td>60000000</td>\n",
              "      <td>[{'id': 28, 'name': 'Action'}, {'id': 80, 'nam...</td>\n",
              "      <td>949</td>\n",
              "      <td>tt0113277</td>\n",
              "      <td>en</td>\n",
              "      <td>Heat</td>\n",
              "      <td>Obsessive master thief, Neil McCauley leads a ...</td>\n",
              "      <td>17.924927</td>\n",
              "      <td>[{'name': 'Regency Enterprises', 'id': 508}, {...</td>\n",
              "      <td>[{'iso_3166_1': 'US', 'name': 'United States o...</td>\n",
              "      <td>1995-12-15</td>\n",
              "      <td>187436818.0</td>\n",
              "      <td>[{'iso_639_1': 'en', 'name': 'English'}, {'iso...</td>\n",
              "      <td>A Los Angeles Crime Saga</td>\n",
              "      <td>Heat</td>\n",
              "      <td>False</td>\n",
              "      <td>7.7</td>\n",
              "      <td>1886.0</td>\n",
              "      <td>2.0</td>\n",
              "    </tr>\n",
              "    <tr>\n",
              "      <th>3</th>\n",
              "      <td>60000000</td>\n",
              "      <td>[{'id': 28, 'name': 'Action'}, {'id': 80, 'nam...</td>\n",
              "      <td>949</td>\n",
              "      <td>tt0113277</td>\n",
              "      <td>en</td>\n",
              "      <td>Heat</td>\n",
              "      <td>Obsessive master thief, Neil McCauley leads a ...</td>\n",
              "      <td>17.924927</td>\n",
              "      <td>[{'name': 'Regency Enterprises', 'id': 508}, {...</td>\n",
              "      <td>[{'iso_3166_1': 'US', 'name': 'United States o...</td>\n",
              "      <td>1995-12-15</td>\n",
              "      <td>187436818.0</td>\n",
              "      <td>[{'iso_639_1': 'en', 'name': 'English'}, {'iso...</td>\n",
              "      <td>A Los Angeles Crime Saga</td>\n",
              "      <td>Heat</td>\n",
              "      <td>False</td>\n",
              "      <td>7.7</td>\n",
              "      <td>1886.0</td>\n",
              "      <td>5.0</td>\n",
              "    </tr>\n",
              "    <tr>\n",
              "      <th>4</th>\n",
              "      <td>60000000</td>\n",
              "      <td>[{'id': 28, 'name': 'Action'}, {'id': 80, 'nam...</td>\n",
              "      <td>949</td>\n",
              "      <td>tt0113277</td>\n",
              "      <td>en</td>\n",
              "      <td>Heat</td>\n",
              "      <td>Obsessive master thief, Neil McCauley leads a ...</td>\n",
              "      <td>17.924927</td>\n",
              "      <td>[{'name': 'Regency Enterprises', 'id': 508}, {...</td>\n",
              "      <td>[{'iso_3166_1': 'US', 'name': 'United States o...</td>\n",
              "      <td>1995-12-15</td>\n",
              "      <td>187436818.0</td>\n",
              "      <td>[{'iso_639_1': 'en', 'name': 'English'}, {'iso...</td>\n",
              "      <td>A Los Angeles Crime Saga</td>\n",
              "      <td>Heat</td>\n",
              "      <td>False</td>\n",
              "      <td>7.7</td>\n",
              "      <td>1886.0</td>\n",
              "      <td>3.0</td>\n",
              "    </tr>\n",
              "  </tbody>\n",
              "</table>\n",
              "</div>\n",
              "      <button class=\"colab-df-convert\" onclick=\"convertToInteractive('df-cf9f0643-499c-4abd-9603-ac74e3c3c7ed')\"\n",
              "              title=\"Convert this dataframe to an interactive table.\"\n",
              "              style=\"display:none;\">\n",
              "        \n",
              "  <svg xmlns=\"http://www.w3.org/2000/svg\" height=\"24px\"viewBox=\"0 0 24 24\"\n",
              "       width=\"24px\">\n",
              "    <path d=\"M0 0h24v24H0V0z\" fill=\"none\"/>\n",
              "    <path d=\"M18.56 5.44l.94 2.06.94-2.06 2.06-.94-2.06-.94-.94-2.06-.94 2.06-2.06.94zm-11 1L8.5 8.5l.94-2.06 2.06-.94-2.06-.94L8.5 2.5l-.94 2.06-2.06.94zm10 10l.94 2.06.94-2.06 2.06-.94-2.06-.94-.94-2.06-.94 2.06-2.06.94z\"/><path d=\"M17.41 7.96l-1.37-1.37c-.4-.4-.92-.59-1.43-.59-.52 0-1.04.2-1.43.59L10.3 9.45l-7.72 7.72c-.78.78-.78 2.05 0 2.83L4 21.41c.39.39.9.59 1.41.59.51 0 1.02-.2 1.41-.59l7.78-7.78 2.81-2.81c.8-.78.8-2.07 0-2.86zM5.41 20L4 18.59l7.72-7.72 1.47 1.35L5.41 20z\"/>\n",
              "  </svg>\n",
              "      </button>\n",
              "      \n",
              "  <style>\n",
              "    .colab-df-container {\n",
              "      display:flex;\n",
              "      flex-wrap:wrap;\n",
              "      gap: 12px;\n",
              "    }\n",
              "\n",
              "    .colab-df-convert {\n",
              "      background-color: #E8F0FE;\n",
              "      border: none;\n",
              "      border-radius: 50%;\n",
              "      cursor: pointer;\n",
              "      display: none;\n",
              "      fill: #1967D2;\n",
              "      height: 32px;\n",
              "      padding: 0 0 0 0;\n",
              "      width: 32px;\n",
              "    }\n",
              "\n",
              "    .colab-df-convert:hover {\n",
              "      background-color: #E2EBFA;\n",
              "      box-shadow: 0px 1px 2px rgba(60, 64, 67, 0.3), 0px 1px 3px 1px rgba(60, 64, 67, 0.15);\n",
              "      fill: #174EA6;\n",
              "    }\n",
              "\n",
              "    [theme=dark] .colab-df-convert {\n",
              "      background-color: #3B4455;\n",
              "      fill: #D2E3FC;\n",
              "    }\n",
              "\n",
              "    [theme=dark] .colab-df-convert:hover {\n",
              "      background-color: #434B5C;\n",
              "      box-shadow: 0px 1px 3px 1px rgba(0, 0, 0, 0.15);\n",
              "      filter: drop-shadow(0px 1px 2px rgba(0, 0, 0, 0.3));\n",
              "      fill: #FFFFFF;\n",
              "    }\n",
              "  </style>\n",
              "\n",
              "      <script>\n",
              "        const buttonEl =\n",
              "          document.querySelector('#df-cf9f0643-499c-4abd-9603-ac74e3c3c7ed button.colab-df-convert');\n",
              "        buttonEl.style.display =\n",
              "          google.colab.kernel.accessAllowed ? 'block' : 'none';\n",
              "\n",
              "        async function convertToInteractive(key) {\n",
              "          const element = document.querySelector('#df-cf9f0643-499c-4abd-9603-ac74e3c3c7ed');\n",
              "          const dataTable =\n",
              "            await google.colab.kernel.invokeFunction('convertToInteractive',\n",
              "                                                     [key], {});\n",
              "          if (!dataTable) return;\n",
              "\n",
              "          const docLinkHtml = 'Like what you see? Visit the ' +\n",
              "            '<a target=\"_blank\" href=https://colab.research.google.com/notebooks/data_table.ipynb>data table notebook</a>'\n",
              "            + ' to learn more about interactive tables.';\n",
              "          element.innerHTML = '';\n",
              "          dataTable['output_type'] = 'display_data';\n",
              "          await google.colab.output.renderOutput(dataTable, element);\n",
              "          const docLink = document.createElement('div');\n",
              "          docLink.innerHTML = docLinkHtml;\n",
              "          element.appendChild(docLink);\n",
              "        }\n",
              "      </script>\n",
              "    </div>\n",
              "  </div>\n",
              "  "
            ]
          },
          "metadata": {},
          "execution_count": 14
        }
      ],
      "source": [
        "# Merge metadata\n",
        "rate_small = rate_small.rename(columns={'movieId': 'id'})\n",
        "merged_meta = pd.merge(mov_meta, re_rate_small, \n",
        "                     how='inner', \n",
        "                     on = 'id')\n",
        "merged_meta.head()"
      ]
    },
    {
      "cell_type": "code",
      "execution_count": 15,
      "metadata": {
        "id": "ktwoyGVPMxbC"
      },
      "outputs": [],
      "source": [
        "#Change the column name\n",
        "mov_meta= mov_meta.rename(columns={\"original_title\": \"movie_title\"})"
      ]
    },
    {
      "cell_type": "code",
      "execution_count": 16,
      "metadata": {
        "id": "TQPatjXUIl8I",
        "colab": {
          "base_uri": "https://localhost:8080/",
          "height": 0
        },
        "outputId": "67f752e3-bde0-4d09-ad90-eaceac3409f8"
      },
      "outputs": [
        {
          "output_type": "stream",
          "name": "stdout",
          "text": [
            "(1129887, 23)\n",
            "(44994, 19)\n"
          ]
        }
      ],
      "source": [
        "print(merged_rot.shape)\n",
        "print(merged_meta.shape)"
      ]
    },
    {
      "cell_type": "code",
      "execution_count": 17,
      "metadata": {
        "id": "iEzFJ-4lMxgn"
      },
      "outputs": [],
      "source": [
        "#Pre-process the data\n",
        "merged_rot[\"movie_title\"] = merged_rot[\"movie_title\"].str.lower().str.strip()\n",
        "mov_meta[\"movie_title\"] = mov_meta[\"movie_title\"].str.lower().str.strip()"
      ]
    },
    {
      "cell_type": "code",
      "execution_count": 18,
      "metadata": {
        "id": "oRx4eByhMrtB"
      },
      "outputs": [],
      "source": [
        "# Remove duplicate reviews\n",
        "merged_rot['review_content'] = merged_rot['review_content'].str.lower().str.strip()\n",
        "merged_rot = merged_rot[~merged_rot['review_content'].duplicated()]"
      ]
    },
    {
      "cell_type": "code",
      "execution_count": 19,
      "metadata": {
        "id": "hPIR5UM4Mxmo",
        "colab": {
          "base_uri": "https://localhost:8080/",
          "height": 820
        },
        "outputId": "61b69ebb-1fdd-4d78-9d8d-ee813abfd15a"
      },
      "outputs": [
        {
          "output_type": "execute_result",
          "data": {
            "text/plain": [
              "  rotten_tomatoes_link      critic_name  top_critic           publisher_name  \\\n",
              "0            m/0814255  Andrew L. Urban       False           Urban Cinefile   \n",
              "1            m/0814255    Louise Keller       False           Urban Cinefile   \n",
              "2            m/0814255              NaN       False      FILMINK (Australia)   \n",
              "3            m/0814255     Ben McEachen       False  Sunday Mail (Australia)   \n",
              "4            m/0814255      Ethan Alter        True       Hollywood Reporter   \n",
              "\n",
              "  review_type review_score                                     review_content  \\\n",
              "0       Fresh          NaN  a fantasy adventure that fuses greek mythology...   \n",
              "1       Fresh          NaN  uma thurman as medusa, the gorgon with a coiff...   \n",
              "2       Fresh          NaN  with a top-notch cast and dazzling special eff...   \n",
              "3       Fresh        3.5/5  whether audiences will get behind the lightnin...   \n",
              "4      Rotten          NaN  what's really lacking in the lightning thief i...   \n",
              "\n",
              "                                         movie_title  \\\n",
              "0  percy jackson & the olympians: the lightning t...   \n",
              "1  percy jackson & the olympians: the lightning t...   \n",
              "2  percy jackson & the olympians: the lightning t...   \n",
              "3  percy jackson & the olympians: the lightning t...   \n",
              "4  percy jackson & the olympians: the lightning t...   \n",
              "\n",
              "                                          movie_info  \\\n",
              "0  Always trouble-prone, the life of teenager Per...   \n",
              "1  Always trouble-prone, the life of teenager Per...   \n",
              "2  Always trouble-prone, the life of teenager Per...   \n",
              "3  Always trouble-prone, the life of teenager Per...   \n",
              "4  Always trouble-prone, the life of teenager Per...   \n",
              "\n",
              "                                   critics_consensus  ...  \\\n",
              "0  Though it may seem like just another Harry Pot...  ...   \n",
              "1  Though it may seem like just another Harry Pot...  ...   \n",
              "2  Though it may seem like just another Harry Pot...  ...   \n",
              "3  Though it may seem like just another Harry Pot...  ...   \n",
              "4  Though it may seem like just another Harry Pot...  ...   \n",
              "\n",
              "                                production_companies  \\\n",
              "0  [{'name': 'Ingenious Film Partners', 'id': 289...   \n",
              "1  [{'name': 'Ingenious Film Partners', 'id': 289...   \n",
              "2  [{'name': 'Ingenious Film Partners', 'id': 289...   \n",
              "3  [{'name': 'Ingenious Film Partners', 'id': 289...   \n",
              "4  [{'name': 'Ingenious Film Partners', 'id': 289...   \n",
              "\n",
              "                                production_countries release_date  \\\n",
              "0  [{'iso_3166_1': 'CA', 'name': 'Canada'}, {'iso...   2010-02-01   \n",
              "1  [{'iso_3166_1': 'CA', 'name': 'Canada'}, {'iso...   2010-02-01   \n",
              "2  [{'iso_3166_1': 'CA', 'name': 'Canada'}, {'iso...   2010-02-01   \n",
              "3  [{'iso_3166_1': 'CA', 'name': 'Canada'}, {'iso...   2010-02-01   \n",
              "4  [{'iso_3166_1': 'CA', 'name': 'Canada'}, {'iso...   2010-02-01   \n",
              "\n",
              "       revenue                          spoken_languages         tagline  \\\n",
              "0  226497209.0  [{'iso_639_1': 'en', 'name': 'English'}]  Worlds Collide   \n",
              "1  226497209.0  [{'iso_639_1': 'en', 'name': 'English'}]  Worlds Collide   \n",
              "2  226497209.0  [{'iso_639_1': 'en', 'name': 'English'}]  Worlds Collide   \n",
              "3  226497209.0  [{'iso_639_1': 'en', 'name': 'English'}]  Worlds Collide   \n",
              "4  226497209.0  [{'iso_639_1': 'en', 'name': 'English'}]  Worlds Collide   \n",
              "\n",
              "                                               title  video  vote_average  \\\n",
              "0  Percy Jackson & the Olympians: The Lightning T...  False           6.0   \n",
              "1  Percy Jackson & the Olympians: The Lightning T...  False           6.0   \n",
              "2  Percy Jackson & the Olympians: The Lightning T...  False           6.0   \n",
              "3  Percy Jackson & the Olympians: The Lightning T...  False           6.0   \n",
              "4  Percy Jackson & the Olympians: The Lightning T...  False           6.0   \n",
              "\n",
              "   vote_count  \n",
              "0      2079.0  \n",
              "1      2079.0  \n",
              "2      2079.0  \n",
              "3      2079.0  \n",
              "4      2079.0  \n",
              "\n",
              "[5 rows x 40 columns]"
            ],
            "text/html": [
              "\n",
              "  <div id=\"df-71cba697-2cb6-461e-8191-32b5560d6413\">\n",
              "    <div class=\"colab-df-container\">\n",
              "      <div>\n",
              "<style scoped>\n",
              "    .dataframe tbody tr th:only-of-type {\n",
              "        vertical-align: middle;\n",
              "    }\n",
              "\n",
              "    .dataframe tbody tr th {\n",
              "        vertical-align: top;\n",
              "    }\n",
              "\n",
              "    .dataframe thead th {\n",
              "        text-align: right;\n",
              "    }\n",
              "</style>\n",
              "<table border=\"1\" class=\"dataframe\">\n",
              "  <thead>\n",
              "    <tr style=\"text-align: right;\">\n",
              "      <th></th>\n",
              "      <th>rotten_tomatoes_link</th>\n",
              "      <th>critic_name</th>\n",
              "      <th>top_critic</th>\n",
              "      <th>publisher_name</th>\n",
              "      <th>review_type</th>\n",
              "      <th>review_score</th>\n",
              "      <th>review_content</th>\n",
              "      <th>movie_title</th>\n",
              "      <th>movie_info</th>\n",
              "      <th>critics_consensus</th>\n",
              "      <th>...</th>\n",
              "      <th>production_companies</th>\n",
              "      <th>production_countries</th>\n",
              "      <th>release_date</th>\n",
              "      <th>revenue</th>\n",
              "      <th>spoken_languages</th>\n",
              "      <th>tagline</th>\n",
              "      <th>title</th>\n",
              "      <th>video</th>\n",
              "      <th>vote_average</th>\n",
              "      <th>vote_count</th>\n",
              "    </tr>\n",
              "  </thead>\n",
              "  <tbody>\n",
              "    <tr>\n",
              "      <th>0</th>\n",
              "      <td>m/0814255</td>\n",
              "      <td>Andrew L. Urban</td>\n",
              "      <td>False</td>\n",
              "      <td>Urban Cinefile</td>\n",
              "      <td>Fresh</td>\n",
              "      <td>NaN</td>\n",
              "      <td>a fantasy adventure that fuses greek mythology...</td>\n",
              "      <td>percy jackson &amp; the olympians: the lightning t...</td>\n",
              "      <td>Always trouble-prone, the life of teenager Per...</td>\n",
              "      <td>Though it may seem like just another Harry Pot...</td>\n",
              "      <td>...</td>\n",
              "      <td>[{'name': 'Ingenious Film Partners', 'id': 289...</td>\n",
              "      <td>[{'iso_3166_1': 'CA', 'name': 'Canada'}, {'iso...</td>\n",
              "      <td>2010-02-01</td>\n",
              "      <td>226497209.0</td>\n",
              "      <td>[{'iso_639_1': 'en', 'name': 'English'}]</td>\n",
              "      <td>Worlds Collide</td>\n",
              "      <td>Percy Jackson &amp; the Olympians: The Lightning T...</td>\n",
              "      <td>False</td>\n",
              "      <td>6.0</td>\n",
              "      <td>2079.0</td>\n",
              "    </tr>\n",
              "    <tr>\n",
              "      <th>1</th>\n",
              "      <td>m/0814255</td>\n",
              "      <td>Louise Keller</td>\n",
              "      <td>False</td>\n",
              "      <td>Urban Cinefile</td>\n",
              "      <td>Fresh</td>\n",
              "      <td>NaN</td>\n",
              "      <td>uma thurman as medusa, the gorgon with a coiff...</td>\n",
              "      <td>percy jackson &amp; the olympians: the lightning t...</td>\n",
              "      <td>Always trouble-prone, the life of teenager Per...</td>\n",
              "      <td>Though it may seem like just another Harry Pot...</td>\n",
              "      <td>...</td>\n",
              "      <td>[{'name': 'Ingenious Film Partners', 'id': 289...</td>\n",
              "      <td>[{'iso_3166_1': 'CA', 'name': 'Canada'}, {'iso...</td>\n",
              "      <td>2010-02-01</td>\n",
              "      <td>226497209.0</td>\n",
              "      <td>[{'iso_639_1': 'en', 'name': 'English'}]</td>\n",
              "      <td>Worlds Collide</td>\n",
              "      <td>Percy Jackson &amp; the Olympians: The Lightning T...</td>\n",
              "      <td>False</td>\n",
              "      <td>6.0</td>\n",
              "      <td>2079.0</td>\n",
              "    </tr>\n",
              "    <tr>\n",
              "      <th>2</th>\n",
              "      <td>m/0814255</td>\n",
              "      <td>NaN</td>\n",
              "      <td>False</td>\n",
              "      <td>FILMINK (Australia)</td>\n",
              "      <td>Fresh</td>\n",
              "      <td>NaN</td>\n",
              "      <td>with a top-notch cast and dazzling special eff...</td>\n",
              "      <td>percy jackson &amp; the olympians: the lightning t...</td>\n",
              "      <td>Always trouble-prone, the life of teenager Per...</td>\n",
              "      <td>Though it may seem like just another Harry Pot...</td>\n",
              "      <td>...</td>\n",
              "      <td>[{'name': 'Ingenious Film Partners', 'id': 289...</td>\n",
              "      <td>[{'iso_3166_1': 'CA', 'name': 'Canada'}, {'iso...</td>\n",
              "      <td>2010-02-01</td>\n",
              "      <td>226497209.0</td>\n",
              "      <td>[{'iso_639_1': 'en', 'name': 'English'}]</td>\n",
              "      <td>Worlds Collide</td>\n",
              "      <td>Percy Jackson &amp; the Olympians: The Lightning T...</td>\n",
              "      <td>False</td>\n",
              "      <td>6.0</td>\n",
              "      <td>2079.0</td>\n",
              "    </tr>\n",
              "    <tr>\n",
              "      <th>3</th>\n",
              "      <td>m/0814255</td>\n",
              "      <td>Ben McEachen</td>\n",
              "      <td>False</td>\n",
              "      <td>Sunday Mail (Australia)</td>\n",
              "      <td>Fresh</td>\n",
              "      <td>3.5/5</td>\n",
              "      <td>whether audiences will get behind the lightnin...</td>\n",
              "      <td>percy jackson &amp; the olympians: the lightning t...</td>\n",
              "      <td>Always trouble-prone, the life of teenager Per...</td>\n",
              "      <td>Though it may seem like just another Harry Pot...</td>\n",
              "      <td>...</td>\n",
              "      <td>[{'name': 'Ingenious Film Partners', 'id': 289...</td>\n",
              "      <td>[{'iso_3166_1': 'CA', 'name': 'Canada'}, {'iso...</td>\n",
              "      <td>2010-02-01</td>\n",
              "      <td>226497209.0</td>\n",
              "      <td>[{'iso_639_1': 'en', 'name': 'English'}]</td>\n",
              "      <td>Worlds Collide</td>\n",
              "      <td>Percy Jackson &amp; the Olympians: The Lightning T...</td>\n",
              "      <td>False</td>\n",
              "      <td>6.0</td>\n",
              "      <td>2079.0</td>\n",
              "    </tr>\n",
              "    <tr>\n",
              "      <th>4</th>\n",
              "      <td>m/0814255</td>\n",
              "      <td>Ethan Alter</td>\n",
              "      <td>True</td>\n",
              "      <td>Hollywood Reporter</td>\n",
              "      <td>Rotten</td>\n",
              "      <td>NaN</td>\n",
              "      <td>what's really lacking in the lightning thief i...</td>\n",
              "      <td>percy jackson &amp; the olympians: the lightning t...</td>\n",
              "      <td>Always trouble-prone, the life of teenager Per...</td>\n",
              "      <td>Though it may seem like just another Harry Pot...</td>\n",
              "      <td>...</td>\n",
              "      <td>[{'name': 'Ingenious Film Partners', 'id': 289...</td>\n",
              "      <td>[{'iso_3166_1': 'CA', 'name': 'Canada'}, {'iso...</td>\n",
              "      <td>2010-02-01</td>\n",
              "      <td>226497209.0</td>\n",
              "      <td>[{'iso_639_1': 'en', 'name': 'English'}]</td>\n",
              "      <td>Worlds Collide</td>\n",
              "      <td>Percy Jackson &amp; the Olympians: The Lightning T...</td>\n",
              "      <td>False</td>\n",
              "      <td>6.0</td>\n",
              "      <td>2079.0</td>\n",
              "    </tr>\n",
              "  </tbody>\n",
              "</table>\n",
              "<p>5 rows × 40 columns</p>\n",
              "</div>\n",
              "      <button class=\"colab-df-convert\" onclick=\"convertToInteractive('df-71cba697-2cb6-461e-8191-32b5560d6413')\"\n",
              "              title=\"Convert this dataframe to an interactive table.\"\n",
              "              style=\"display:none;\">\n",
              "        \n",
              "  <svg xmlns=\"http://www.w3.org/2000/svg\" height=\"24px\"viewBox=\"0 0 24 24\"\n",
              "       width=\"24px\">\n",
              "    <path d=\"M0 0h24v24H0V0z\" fill=\"none\"/>\n",
              "    <path d=\"M18.56 5.44l.94 2.06.94-2.06 2.06-.94-2.06-.94-.94-2.06-.94 2.06-2.06.94zm-11 1L8.5 8.5l.94-2.06 2.06-.94-2.06-.94L8.5 2.5l-.94 2.06-2.06.94zm10 10l.94 2.06.94-2.06 2.06-.94-2.06-.94-.94-2.06-.94 2.06-2.06.94z\"/><path d=\"M17.41 7.96l-1.37-1.37c-.4-.4-.92-.59-1.43-.59-.52 0-1.04.2-1.43.59L10.3 9.45l-7.72 7.72c-.78.78-.78 2.05 0 2.83L4 21.41c.39.39.9.59 1.41.59.51 0 1.02-.2 1.41-.59l7.78-7.78 2.81-2.81c.8-.78.8-2.07 0-2.86zM5.41 20L4 18.59l7.72-7.72 1.47 1.35L5.41 20z\"/>\n",
              "  </svg>\n",
              "      </button>\n",
              "      \n",
              "  <style>\n",
              "    .colab-df-container {\n",
              "      display:flex;\n",
              "      flex-wrap:wrap;\n",
              "      gap: 12px;\n",
              "    }\n",
              "\n",
              "    .colab-df-convert {\n",
              "      background-color: #E8F0FE;\n",
              "      border: none;\n",
              "      border-radius: 50%;\n",
              "      cursor: pointer;\n",
              "      display: none;\n",
              "      fill: #1967D2;\n",
              "      height: 32px;\n",
              "      padding: 0 0 0 0;\n",
              "      width: 32px;\n",
              "    }\n",
              "\n",
              "    .colab-df-convert:hover {\n",
              "      background-color: #E2EBFA;\n",
              "      box-shadow: 0px 1px 2px rgba(60, 64, 67, 0.3), 0px 1px 3px 1px rgba(60, 64, 67, 0.15);\n",
              "      fill: #174EA6;\n",
              "    }\n",
              "\n",
              "    [theme=dark] .colab-df-convert {\n",
              "      background-color: #3B4455;\n",
              "      fill: #D2E3FC;\n",
              "    }\n",
              "\n",
              "    [theme=dark] .colab-df-convert:hover {\n",
              "      background-color: #434B5C;\n",
              "      box-shadow: 0px 1px 3px 1px rgba(0, 0, 0, 0.15);\n",
              "      filter: drop-shadow(0px 1px 2px rgba(0, 0, 0, 0.3));\n",
              "      fill: #FFFFFF;\n",
              "    }\n",
              "  </style>\n",
              "\n",
              "      <script>\n",
              "        const buttonEl =\n",
              "          document.querySelector('#df-71cba697-2cb6-461e-8191-32b5560d6413 button.colab-df-convert');\n",
              "        buttonEl.style.display =\n",
              "          google.colab.kernel.accessAllowed ? 'block' : 'none';\n",
              "\n",
              "        async function convertToInteractive(key) {\n",
              "          const element = document.querySelector('#df-71cba697-2cb6-461e-8191-32b5560d6413');\n",
              "          const dataTable =\n",
              "            await google.colab.kernel.invokeFunction('convertToInteractive',\n",
              "                                                     [key], {});\n",
              "          if (!dataTable) return;\n",
              "\n",
              "          const docLinkHtml = 'Like what you see? Visit the ' +\n",
              "            '<a target=\"_blank\" href=https://colab.research.google.com/notebooks/data_table.ipynb>data table notebook</a>'\n",
              "            + ' to learn more about interactive tables.';\n",
              "          element.innerHTML = '';\n",
              "          dataTable['output_type'] = 'display_data';\n",
              "          await google.colab.output.renderOutput(dataTable, element);\n",
              "          const docLink = document.createElement('div');\n",
              "          docLink.innerHTML = docLinkHtml;\n",
              "          element.appendChild(docLink);\n",
              "        }\n",
              "      </script>\n",
              "    </div>\n",
              "  </div>\n",
              "  "
            ]
          },
          "metadata": {},
          "execution_count": 19
        }
      ],
      "source": [
        "# Merge rotten CSV with Movie Meta\n",
        "merged_df = merged_rot.merge(mov_meta, on='movie_title', how='inner')\n",
        "merged_df.head()"
      ]
    },
    {
      "cell_type": "code",
      "execution_count": 20,
      "metadata": {
        "id": "_tl6gloQrKnn",
        "colab": {
          "base_uri": "https://localhost:8080/",
          "height": 0
        },
        "outputId": "db6679b8-3e58-4f31-b034-a5bb41e6cfe2"
      },
      "outputs": [
        {
          "output_type": "stream",
          "name": "stdout",
          "text": [
            "Shape: (857593, 40)\n",
            "Column Names ['rotten_tomatoes_link' 'critic_name' 'top_critic' 'publisher_name'\n",
            " 'review_type' 'review_score' 'review_content' 'movie_title' 'movie_info'\n",
            " 'critics_consensus' 'content_rating' 'genres_x' 'directors' 'authors'\n",
            " 'actors' 'tomatometer_rating' 'tomatometer_count' 'audience_status'\n",
            " 'audience_rating' 'audience_count' 'tomatometer_top_critics_count'\n",
            " 'tomatometer_fresh_critics_count' 'tomatometer_rotten_critics_count'\n",
            " 'budget' 'genres_y' 'id' 'imdb_id' 'original_language' 'overview'\n",
            " 'popularity' 'production_companies' 'production_countries' 'release_date'\n",
            " 'revenue' 'spoken_languages' 'tagline' 'title' 'video' 'vote_average'\n",
            " 'vote_count']\n"
          ]
        }
      ],
      "source": [
        "print (\"Shape:\", merged_df.shape)\n",
        "print (\"Column Names\",merged_df.columns.values)"
      ]
    },
    {
      "cell_type": "markdown",
      "metadata": {
        "id": "B_or1kEgOYpa"
      },
      "source": [
        "# Pre-process"
      ]
    },
    {
      "cell_type": "code",
      "execution_count": 21,
      "metadata": {
        "id": "0SZZOywsradI",
        "colab": {
          "base_uri": "https://localhost:8080/",
          "height": 0
        },
        "outputId": "486087c6-7395-40d2-ba15-0af209ef15c2"
      },
      "outputs": [
        {
          "output_type": "stream",
          "name": "stderr",
          "text": [
            "[nltk_data] Downloading package wordnet to /root/nltk_data...\n",
            "[nltk_data] Downloading package averaged_perceptron_tagger to\n",
            "[nltk_data]     /root/nltk_data...\n",
            "[nltk_data]   Unzipping taggers/averaged_perceptron_tagger.zip.\n",
            "[nltk_data] Downloading package omw-1.4 to /root/nltk_data...\n"
          ]
        },
        {
          "output_type": "execute_result",
          "data": {
            "text/plain": [
              "True"
            ]
          },
          "metadata": {},
          "execution_count": 21
        }
      ],
      "source": [
        "import gensim\n",
        "from gensim.utils import simple_preprocess\n",
        "from gensim.parsing.preprocessing import STOPWORDS\n",
        "from nltk.stem import WordNetLemmatizer\n",
        "import nltk\n",
        "nltk.download('wordnet')\n",
        "from nltk.corpus import wordnet\n",
        "nltk.download('averaged_perceptron_tagger')\n",
        "nltk.download('omw-1.4')"
      ]
    },
    {
      "cell_type": "code",
      "execution_count": 22,
      "metadata": {
        "id": "I8bikWvlrfJF"
      },
      "outputs": [],
      "source": [
        "#lemmatization (simplified version)\n",
        "def lemmatize_text(text):\n",
        "    return WordNetLemmatizer().lemmatize(text, pos='v')"
      ]
    },
    {
      "cell_type": "code",
      "execution_count": 23,
      "metadata": {
        "id": "e5mp7yXlrrnM"
      },
      "outputs": [],
      "source": [
        "# and then remove stop words and words fewer than 2 characters.\n",
        "def preprocess(text):\n",
        "    result = []\n",
        "    for token in gensim.utils.simple_preprocess(text):\n",
        "        if token not in gensim.parsing.preprocessing.STOPWORDS and len(token) > 3:\n",
        "            result.append(lemmatize_text(token))\n",
        "    return result"
      ]
    },
    {
      "cell_type": "code",
      "execution_count": 24,
      "metadata": {
        "id": "H3no-LXtruvp",
        "colab": {
          "base_uri": "https://localhost:8080/",
          "height": 0
        },
        "outputId": "d1c51184-3f23-4a95-e680-e094394df4cf"
      },
      "outputs": [
        {
          "output_type": "stream",
          "name": "stdout",
          "text": [
            "  rotten_tomatoes_link       critic_name  top_critic           publisher_name  \\\n",
            "0            m/0814255   Andrew L. Urban       False           Urban Cinefile   \n",
            "1            m/0814255     Louise Keller       False           Urban Cinefile   \n",
            "2            m/0814255               NaN       False      FILMINK (Australia)   \n",
            "3            m/0814255      Ben McEachen       False  Sunday Mail (Australia)   \n",
            "4            m/0814255       Ethan Alter        True       Hollywood Reporter   \n",
            "5            m/0814255     David Germain        True         Associated Press   \n",
            "6            m/0814255      Nick Schager       False           Slant Magazine   \n",
            "7            m/0814255  Bill Goodykoontz        True         Arizona Republic   \n",
            "8            m/0814255    Jordan Hoffman       False                      UGO   \n",
            "9            m/0814255      Jim Schembri        True      The Age (Australia)   \n",
            "\n",
            "  review_type review_score                                     review_content  \\\n",
            "0       Fresh          NaN  a fantasy adventure that fuses greek mythology...   \n",
            "1       Fresh          NaN  uma thurman as medusa, the gorgon with a coiff...   \n",
            "2       Fresh          NaN  with a top-notch cast and dazzling special eff...   \n",
            "3       Fresh        3.5/5  whether audiences will get behind the lightnin...   \n",
            "4      Rotten          NaN  what's really lacking in the lightning thief i...   \n",
            "5      Rotten          NaN  it's more a list of ingredients than a movie-m...   \n",
            "6      Rotten          1/4  harry potter knockoffs don't come more transpa...   \n",
            "7       Fresh        3.5/5  percy jackson isn't a great movie, but it's a ...   \n",
            "8       Fresh            B                         fun, brisk and imaginative   \n",
            "9       Fresh          3/5  crammed with dragons, set-destroying fights an...   \n",
            "\n",
            "                                         movie_title  \\\n",
            "0  percy jackson & the olympians: the lightning t...   \n",
            "1  percy jackson & the olympians: the lightning t...   \n",
            "2  percy jackson & the olympians: the lightning t...   \n",
            "3  percy jackson & the olympians: the lightning t...   \n",
            "4  percy jackson & the olympians: the lightning t...   \n",
            "5  percy jackson & the olympians: the lightning t...   \n",
            "6  percy jackson & the olympians: the lightning t...   \n",
            "7  percy jackson & the olympians: the lightning t...   \n",
            "8  percy jackson & the olympians: the lightning t...   \n",
            "9  percy jackson & the olympians: the lightning t...   \n",
            "\n",
            "                                          movie_info  \\\n",
            "0  Always trouble-prone, the life of teenager Per...   \n",
            "1  Always trouble-prone, the life of teenager Per...   \n",
            "2  Always trouble-prone, the life of teenager Per...   \n",
            "3  Always trouble-prone, the life of teenager Per...   \n",
            "4  Always trouble-prone, the life of teenager Per...   \n",
            "5  Always trouble-prone, the life of teenager Per...   \n",
            "6  Always trouble-prone, the life of teenager Per...   \n",
            "7  Always trouble-prone, the life of teenager Per...   \n",
            "8  Always trouble-prone, the life of teenager Per...   \n",
            "9  Always trouble-prone, the life of teenager Per...   \n",
            "\n",
            "                                   critics_consensus  ...  \\\n",
            "0  Though it may seem like just another Harry Pot...  ...   \n",
            "1  Though it may seem like just another Harry Pot...  ...   \n",
            "2  Though it may seem like just another Harry Pot...  ...   \n",
            "3  Though it may seem like just another Harry Pot...  ...   \n",
            "4  Though it may seem like just another Harry Pot...  ...   \n",
            "5  Though it may seem like just another Harry Pot...  ...   \n",
            "6  Though it may seem like just another Harry Pot...  ...   \n",
            "7  Though it may seem like just another Harry Pot...  ...   \n",
            "8  Though it may seem like just another Harry Pot...  ...   \n",
            "9  Though it may seem like just another Harry Pot...  ...   \n",
            "\n",
            "                                production_countries release_date  \\\n",
            "0  [{'iso_3166_1': 'CA', 'name': 'Canada'}, {'iso...   2010-02-01   \n",
            "1  [{'iso_3166_1': 'CA', 'name': 'Canada'}, {'iso...   2010-02-01   \n",
            "2  [{'iso_3166_1': 'CA', 'name': 'Canada'}, {'iso...   2010-02-01   \n",
            "3  [{'iso_3166_1': 'CA', 'name': 'Canada'}, {'iso...   2010-02-01   \n",
            "4  [{'iso_3166_1': 'CA', 'name': 'Canada'}, {'iso...   2010-02-01   \n",
            "5  [{'iso_3166_1': 'CA', 'name': 'Canada'}, {'iso...   2010-02-01   \n",
            "6  [{'iso_3166_1': 'CA', 'name': 'Canada'}, {'iso...   2010-02-01   \n",
            "7  [{'iso_3166_1': 'CA', 'name': 'Canada'}, {'iso...   2010-02-01   \n",
            "8  [{'iso_3166_1': 'CA', 'name': 'Canada'}, {'iso...   2010-02-01   \n",
            "9  [{'iso_3166_1': 'CA', 'name': 'Canada'}, {'iso...   2010-02-01   \n",
            "\n",
            "       revenue                          spoken_languages         tagline  \\\n",
            "0  226497209.0  [{'iso_639_1': 'en', 'name': 'English'}]  Worlds Collide   \n",
            "1  226497209.0  [{'iso_639_1': 'en', 'name': 'English'}]  Worlds Collide   \n",
            "2  226497209.0  [{'iso_639_1': 'en', 'name': 'English'}]  Worlds Collide   \n",
            "3  226497209.0  [{'iso_639_1': 'en', 'name': 'English'}]  Worlds Collide   \n",
            "4  226497209.0  [{'iso_639_1': 'en', 'name': 'English'}]  Worlds Collide   \n",
            "5  226497209.0  [{'iso_639_1': 'en', 'name': 'English'}]  Worlds Collide   \n",
            "6  226497209.0  [{'iso_639_1': 'en', 'name': 'English'}]  Worlds Collide   \n",
            "7  226497209.0  [{'iso_639_1': 'en', 'name': 'English'}]  Worlds Collide   \n",
            "8  226497209.0  [{'iso_639_1': 'en', 'name': 'English'}]  Worlds Collide   \n",
            "9  226497209.0  [{'iso_639_1': 'en', 'name': 'English'}]  Worlds Collide   \n",
            "\n",
            "                                               title  video vote_average  \\\n",
            "0  Percy Jackson & the Olympians: The Lightning T...  False          6.0   \n",
            "1  Percy Jackson & the Olympians: The Lightning T...  False          6.0   \n",
            "2  Percy Jackson & the Olympians: The Lightning T...  False          6.0   \n",
            "3  Percy Jackson & the Olympians: The Lightning T...  False          6.0   \n",
            "4  Percy Jackson & the Olympians: The Lightning T...  False          6.0   \n",
            "5  Percy Jackson & the Olympians: The Lightning T...  False          6.0   \n",
            "6  Percy Jackson & the Olympians: The Lightning T...  False          6.0   \n",
            "7  Percy Jackson & the Olympians: The Lightning T...  False          6.0   \n",
            "8  Percy Jackson & the Olympians: The Lightning T...  False          6.0   \n",
            "9  Percy Jackson & the Olympians: The Lightning T...  False          6.0   \n",
            "\n",
            "   vote_count                                 review_content_lem  \n",
            "0      2079.0  [fantasy, adventure, fuse, greek, mythology, c...  \n",
            "1      2079.0  [thurman, medusa, gorgon, coiffure, writhe, sn...  \n",
            "2      2079.0  [notch, cast, dazzle, special, effect, tide, t...  \n",
            "3      2079.0  [audiences, lightning, thief, hard, predict, o...  \n",
            "4      2079.0  [lack, lightning, thief, genuine, sense, wonde...  \n",
            "5      2079.0  [list, ingredients, movie, magic, potion, enjo...  \n",
            "6      2079.0  [harry, potter, knockoffs, come, transparent, ...  \n",
            "7      2079.0  [percy, jackson, great, movie, good, trot, ker...  \n",
            "8      2079.0                               [brisk, imaginative]  \n",
            "9      2079.0  [cram, dragons, destroy, fight, things, explod...  \n",
            "\n",
            "[10 rows x 41 columns]\n",
            "Shape: (857593, 41)\n",
            "Column Names ['rotten_tomatoes_link' 'critic_name' 'top_critic' 'publisher_name'\n",
            " 'review_type' 'review_score' 'review_content' 'movie_title' 'movie_info'\n",
            " 'critics_consensus' 'content_rating' 'genres_x' 'directors' 'authors'\n",
            " 'actors' 'tomatometer_rating' 'tomatometer_count' 'audience_status'\n",
            " 'audience_rating' 'audience_count' 'tomatometer_top_critics_count'\n",
            " 'tomatometer_fresh_critics_count' 'tomatometer_rotten_critics_count'\n",
            " 'budget' 'genres_y' 'id' 'imdb_id' 'original_language' 'overview'\n",
            " 'popularity' 'production_companies' 'production_countries' 'release_date'\n",
            " 'revenue' 'spoken_languages' 'tagline' 'title' 'video' 'vote_average'\n",
            " 'vote_count' 'review_content_lem']\n"
          ]
        }
      ],
      "source": [
        "# Running the lemmatization for review content\n",
        "\n",
        "merged_df['review_content_lem'] = merged_df['review_content'].astype(str).map(preprocess)\n",
        "\n",
        "print (merged_df.iloc[:10,:])\n",
        "print (\"Shape:\", merged_df.shape)\n",
        "print (\"Column Names\",merged_df.columns.values)"
      ]
    },
    {
      "cell_type": "markdown",
      "metadata": {
        "id": "Ci4Zsp-TOV9g"
      },
      "source": [
        "# LDA"
      ]
    },
    {
      "cell_type": "code",
      "execution_count": 25,
      "metadata": {
        "id": "Cni3TbDs57ym",
        "colab": {
          "base_uri": "https://localhost:8080/",
          "height": 0
        },
        "outputId": "41cc73d6-e10e-4c9f-eeb8-9e814fad14b2"
      },
      "outputs": [
        {
          "output_type": "stream",
          "name": "stdout",
          "text": [
            "0 adventure\n",
            "1 american\n",
            "2 contemporary\n",
            "3 couple\n",
            "4 fantasy\n",
            "5 fuse\n",
            "6 greek\n",
            "7 mythology\n",
            "8 place\n",
            "9 spectacle\n",
            "10 thrill\n",
            "89251\n"
          ]
        }
      ],
      "source": [
        "#Create a dictionary\n",
        "dictionary = gensim.corpora.Dictionary(merged_df['review_content_lem'])\n",
        "\n",
        "count = 0\n",
        "for k, v in dictionary.iteritems():\n",
        "    print(k, v)\n",
        "    count += 1\n",
        "    if count > 10:\n",
        "        break\n",
        "\n",
        "print (len(dictionary))"
      ]
    },
    {
      "cell_type": "code",
      "execution_count": 26,
      "metadata": {
        "id": "HqpdrlfI9UY9",
        "colab": {
          "base_uri": "https://localhost:8080/",
          "height": 0
        },
        "outputId": "7bdd8481-881e-42ec-a299-51b5e73d4ebd"
      },
      "outputs": [
        {
          "output_type": "stream",
          "name": "stdout",
          "text": [
            "13322\n"
          ]
        }
      ],
      "source": [
        "#Gensim filter_extremes\n",
        "# set i=50, j=0.7, k=50000\n",
        "\n",
        "dictionary.filter_extremes(no_below=50, no_above=0.70, keep_n=50000)\n",
        "print (len(dictionary))"
      ]
    },
    {
      "cell_type": "code",
      "execution_count": 27,
      "metadata": {
        "id": "Mz1Yeilj-Rkn",
        "colab": {
          "base_uri": "https://localhost:8080/",
          "height": 0
        },
        "outputId": "ecf40e24-e74f-42f2-d073-e8b4e770a5db"
      },
      "outputs": [
        {
          "output_type": "stream",
          "name": "stdout",
          "text": [
            "857593\n",
            "[(0, 1), (1, 1), (2, 1), (3, 1), (4, 1), (5, 1), (6, 1), (7, 1), (8, 1), (9, 1), (10, 1), (11, 1), (12, 1), (13, 1)]\n",
            "Word 0 (\"adventure\") appears 1 time.\n",
            "Word 1 (\"american\") appears 1 time.\n",
            "Word 2 (\"contemporary\") appears 1 time.\n",
            "Word 3 (\"couple\") appears 1 time.\n",
            "Word 4 (\"fantasy\") appears 1 time.\n",
            "Word 5 (\"fuse\") appears 1 time.\n",
            "Word 6 (\"greek\") appears 1 time.\n",
            "Word 7 (\"mythology\") appears 1 time.\n",
            "Word 8 (\"place\") appears 1 time.\n",
            "Word 9 (\"spectacle\") appears 1 time.\n",
            "Word 10 (\"thrill\") appears 1 time.\n",
            "Word 11 (\"value\") appears 1 time.\n",
            "Word 12 (\"visual\") appears 1 time.\n",
            "Word 13 (\"years\") appears 1 time.\n"
          ]
        }
      ],
      "source": [
        "#Gensim doc2bow (pass the tokenized words to doc2bow and convert those to vectors.)\n",
        "\n",
        "#For each document, check how many words and how many times those words appear.\n",
        "bow_corpus = [dictionary.doc2bow(doc) for doc in merged_df['review_content_lem']]\n",
        "print (len(bow_corpus))\n",
        "print (bow_corpus[0])\n",
        "\n",
        "#pretiffy the above result to see how the 1st document in our data has been converted.\n",
        "bow_doc_0 = bow_corpus[0]\n",
        "for i in range(len(bow_doc_0)):\n",
        "    print(\"Word {} (\\\"{}\\\") appears {} time.\".format(bow_doc_0[i][0], \n",
        "                                               dictionary[bow_doc_0[i][0]],bow_doc_0[i][1]))"
      ]
    },
    {
      "cell_type": "code",
      "execution_count": 28,
      "metadata": {
        "id": "HBT0RZB2-2DO",
        "colab": {
          "base_uri": "https://localhost:8080/",
          "height": 0
        },
        "outputId": "fb061aa1-4520-4745-f6ff-451e43830f7b"
      },
      "outputs": [
        {
          "output_type": "stream",
          "name": "stdout",
          "text": [
            "857593\n"
          ]
        }
      ],
      "source": [
        "#create tf-idf model object using models.\n",
        "#TfidfModel on bow_corpus\n",
        "from gensim import corpora, models\n",
        "tfidf = models.TfidfModel(bow_corpus)\n",
        "\n",
        "#Apply transformation to the entire corpus.\n",
        "corpus_tfidf = tfidf[bow_corpus]\n",
        "print (len(corpus_tfidf))"
      ]
    },
    {
      "cell_type": "code",
      "execution_count": 29,
      "metadata": {
        "id": "m57v7Ar__R27",
        "colab": {
          "base_uri": "https://localhost:8080/",
          "height": 0
        },
        "outputId": "20a83ad2-71cf-4e4e-8ff4-c33ba6a91c41"
      },
      "outputs": [
        {
          "output_type": "stream",
          "name": "stdout",
          "text": [
            "[(0, 0.22555546030492146),\n",
            " (1, 0.2119023015114139),\n",
            " (2, 0.2790535310495713),\n",
            " (3, 0.2504254970651077),\n",
            " (4, 0.23874265019047736),\n",
            " (5, 0.37681205599240525),\n",
            " (6, 0.34584650195413275),\n",
            " (7, 0.3327040370574728),\n",
            " (8, 0.21687943716544386),\n",
            " (9, 0.269567607369475),\n",
            " (10, 0.22218526063656444),\n",
            " (11, 0.2579104984816672),\n",
            " (12, 0.22971140315534985),\n",
            " (13, 0.21446761807068074)]\n"
          ]
        }
      ],
      "source": [
        "#pretiffy the above result to see how the 1st document in our data has been converted.\n",
        "corpus_tfidf_0=corpus_tfidf[0]\n",
        "from pprint import pprint\n",
        "#for doc in corpus_tfidf:\n",
        "pprint(corpus_tfidf_0)\n"
      ]
    },
    {
      "cell_type": "code",
      "execution_count": 30,
      "metadata": {
        "id": "y0eOI4mk__gJ",
        "colab": {
          "base_uri": "https://localhost:8080/",
          "height": 449
        },
        "outputId": "ec0a968a-3895-47c2-8887-944437b24ba8"
      },
      "outputs": [
        {
          "output_type": "display_data",
          "data": {
            "text/plain": [
              "<Figure size 640x480 with 1 Axes>"
            ],
            "image/png": "[encoded data removed]"
          },
          "metadata": {}
        }
      ],
      "source": [
        "from gensim.models import CoherenceModel\n",
        "import matplotlib.pyplot as plt \n",
        "\n",
        "def calculate_coherence_values(dictionary, corpus, texts, limit, start=4, step=2):\n",
        "    coherence_values = []\n",
        "    model_list = []\n",
        "    for num_topics in range(start, limit, step):\n",
        "        model =  gensim.models.LdaMulticore(corpus_tfidf, num_topics=num_topics, id2word=dictionary\n",
        "                                            )\n",
        "        model_list.append(model)\n",
        "        coherencemodel = CoherenceModel(model=model, texts=merged_df['review_content_lem'], dictionary=dictionary, coherence='c_v')\n",
        "        coherence_values.append(coherencemodel.get_coherence())\n",
        "    return model_list, coherence_values\n",
        "\n",
        "model_list, coherence_values = calculate_coherence_values(dictionary=dictionary, corpus=corpus_tfidf, texts=merged_df['review_content_lem'],\n",
        "                                                          start=4, limit=10, step=2)\n",
        "\n",
        "# Show graph\n",
        "limit=10; start=4; step=2;\n",
        "x = range(start, limit, step)\n",
        "plt.plot(x, coherence_values)\n",
        "plt.xlabel(\"Num Topics\")\n",
        "plt.ylabel(\"Coherence score\")\n",
        "plt.legend((\"coherence_values\"), loc='best')\n",
        "plt.show()"
      ]
    },
    {
      "cell_type": "code",
      "execution_count": 31,
      "metadata": {
        "id": "oQBmYS5d_W4d"
      },
      "outputs": [],
      "source": [
        "#Run LDA model on the final corpus.\n",
        "\n",
        "#num_topics: the number of latent topics to be extracted from the corpus.\n",
        "#id2word: mapping from word ids (integers) to words (strings).\n",
        "# Some other parameters. See the document explanations for more details.\n",
        "\n",
        "lda_model_tfidf = gensim.models.LdaMulticore(corpus_tfidf, num_topics=6, id2word=dictionary)\n"
      ]
    },
    {
      "cell_type": "code",
      "execution_count": 32,
      "metadata": {
        "id": "0JULpQuY_jLt",
        "colab": {
          "base_uri": "https://localhost:8080/",
          "height": 0
        },
        "outputId": "809e2fa0-d5c1-4acc-9f5f-063e0f747332"
      },
      "outputs": [
        {
          "output_type": "stream",
          "name": "stdout",
          "text": [
            "Topic: 0 film movie like best good time year see story movies\n",
            "Topic: 1 movie film like good feel time love laugh story comedy\n",
            "Topic: 2 film movie like story character good best time action performances\n",
            "Topic: 3 film review spanish movie like story character work best time\n",
            "Topic: 4 movie film good like funny time comedy great feel story\n",
            "Topic: 5 film movie story like character director time comedy good feel\n"
          ]
        }
      ],
      "source": [
        "import re\n",
        "for idx, topic in lda_model_tfidf.print_topics(-1, num_words=10):\n",
        "    #print out topic numbers and keywords.\n",
        "#    print('Topic: {} Word: {}'.format(idx, topic))\n",
        "    \n",
        "    #print out keywords only (without probability)\n",
        "    key_words_only = \" \".join(re.findall(\"[a-zA-Z]+\", topic))\n",
        "    print ('Topic:',idx,key_words_only)"
      ]
    },
    {
      "cell_type": "code",
      "execution_count": 33,
      "metadata": {
        "id": "IQRaU2kVAK9K",
        "colab": {
          "base_uri": "https://localhost:8080/",
          "height": 0
        },
        "outputId": "875e7420-1f1f-4780-91de-147ffb47a33f"
      },
      "outputs": [
        {
          "output_type": "stream",
          "name": "stdout",
          "text": [
            "document topics:  <gensim.interfaces.TransformedCorpus object at 0x7f9d411359c0>\n",
            "highest (0, 0.44643155)\n",
            "highest (3, 0.7940315)\n",
            "highest (1, 0.5667401)\n",
            "highest (5, 0.82234144)\n",
            "highest (1, 0.537124)\n",
            "highest (3, 0.76151687)\n",
            "   Dominant Topic  Probability\n",
            "0               0     0.446432\n",
            "1               3     0.794032\n",
            "2               1     0.566740\n",
            "3               5     0.822341\n",
            "4               1     0.537124\n",
            "5               3     0.761517\n"
          ]
        }
      ],
      "source": [
        "#Find the dominant topic in each document\n",
        "list_in_list=[]\n",
        "\n",
        "#for the first 5 documents.\n",
        "doc_topics = lda_model_tfidf.get_document_topics(corpus_tfidf[:6])\n",
        "print('document topics: ', doc_topics)\n",
        "\n",
        "for each_doc in doc_topics:\n",
        "    top_topic=sorted(each_doc, key=lambda x: x[1], reverse=True)[0]\n",
        "    print (\"highest\",top_topic)\n",
        "    \n",
        "    #select topic number & its probability.\n",
        "    top_topic_num=top_topic[0]\n",
        "    top_topic_prob=top_topic[1]\n",
        "\n",
        "    #make a dataframe and fill out within each column.        \n",
        "    list=[top_topic_num,top_topic_prob]\n",
        "    list_in_list.extend([list])\n",
        "    #print (list_in_list)\n",
        "#create pandas dataframe with column names.\n",
        "df = pd.DataFrame(list_in_list, columns = ['Dominant Topic', 'Probability']) \n",
        "pd.set_option(\"display.max_rows\", None, \"display.max_columns\", None)\n",
        "print (df)"
      ]
    },
    {
      "cell_type": "markdown",
      "metadata": {
        "id": "icsMdEmSOEuh"
      },
      "source": [
        "# Sentiment Analysis with Regression"
      ]
    },
    {
      "cell_type": "code",
      "execution_count": 34,
      "metadata": {
        "id": "kyrHyGltC1yI",
        "colab": {
          "base_uri": "https://localhost:8080/",
          "height": 0
        },
        "outputId": "a8383900-4751-4e90-d076-304817a6b925"
      },
      "outputs": [
        {
          "output_type": "stream",
          "name": "stderr",
          "text": [
            "[nltk_data] Downloading package vader_lexicon to /root/nltk_data...\n"
          ]
        },
        {
          "output_type": "execute_result",
          "data": {
            "text/plain": [
              "True"
            ]
          },
          "metadata": {},
          "execution_count": 34
        }
      ],
      "source": [
        "# Bag of words approach\n",
        "from sklearn.feature_extraction.text import CountVectorizer\n",
        "from sklearn.decomposition import LatentDirichletAllocation\n",
        "from sklearn.model_selection import train_test_split\n",
        "from sklearn.metrics import mean_squared_error\n",
        "from sklearn.linear_model import LinearRegression\n",
        "\n",
        "from nltk.sentiment import SentimentIntensityAnalyzer\n",
        "nltk.download('vader_lexicon')"
      ]
    },
    {
      "cell_type": "markdown",
      "metadata": {
        "id": "3OlJcL4J9OFP"
      },
      "source": [
        "##Vader"
      ]
    },
    {
      "cell_type": "code",
      "execution_count": 35,
      "metadata": {
        "id": "Mpte2zabDTnL"
      },
      "outputs": [],
      "source": [
        "# sentiment analysis\n",
        "# Convert the lists in the 'review_content_lem' column to strings\n",
        "merged_df['review_content_lem_str'] = merged_df['review_content_lem'].apply(lambda x: ' '.join(x))\n",
        "\n",
        "# Perform sentiment analysis\n",
        "sia = SentimentIntensityAnalyzer()\n",
        "merged_df['sentiment_score'] = merged_df['review_content_lem_str'].apply(lambda x: sia.polarity_scores(x)['compound'])"
      ]
    },
    {
      "cell_type": "code",
      "execution_count": 36,
      "metadata": {
        "id": "SM9DEq0E7x_P",
        "colab": {
          "base_uri": "https://localhost:8080/",
          "height": 0
        },
        "outputId": "5d6cabbc-59ae-4706-bf4b-8c837e405872"
      },
      "outputs": [
        {
          "output_type": "stream",
          "name": "stdout",
          "text": [
            "                              review_content_lem_str  sentiment_score\n",
            "0  fantasy adventure fuse greek mythology contemp...           0.7351\n",
            "1  thurman medusa gorgon coiffure writhe snake st...           0.3400\n",
            "2  notch cast dazzle special effect tide teens ha...           0.4019\n",
            "3  audiences lightning thief hard predict overall...           0.4767\n",
            "4  lack lightning thief genuine sense wonder thin...          -0.6908\n",
            "5  list ingredients movie magic potion enjoy star...           0.4939\n",
            "6  harry potter knockoffs come transparent slapda...           0.0000\n",
            "7  percy jackson great movie good trot kernels gr...           0.8591\n",
            "8                                  brisk imaginative           0.1531\n",
            "9  cram dragons destroy fight things explode colu...          -0.2500\n"
          ]
        }
      ],
      "source": [
        "#print sentiment score\n",
        "selected_columns = merged_df[['review_content_lem_str', 'sentiment_score']]\n",
        "print(selected_columns.head(10))"
      ]
    },
    {
      "cell_type": "code",
      "execution_count": 37,
      "metadata": {
        "id": "V-SHb8wq9SAg",
        "colab": {
          "base_uri": "https://localhost:8080/",
          "height": 0
        },
        "outputId": "ab79e220-71e1-49c9-95b0-fa97bd9f1869"
      },
      "outputs": [
        {
          "output_type": "stream",
          "name": "stdout",
          "text": [
            "                              review_content_lem_str  sentiment_score  \\\n",
            "0  fantasy adventure fuse greek mythology contemp...           0.7351   \n",
            "1  thurman medusa gorgon coiffure writhe snake st...           0.3400   \n",
            "2  notch cast dazzle special effect tide teens ha...           0.4019   \n",
            "3  audiences lightning thief hard predict overall...           0.4767   \n",
            "4  lack lightning thief genuine sense wonder thin...          -0.6908   \n",
            "5  list ingredients movie magic potion enjoy star...           0.4939   \n",
            "6  harry potter knockoffs come transparent slapda...           0.0000   \n",
            "7  percy jackson great movie good trot kernels gr...           0.8591   \n",
            "8                                  brisk imaginative           0.1531   \n",
            "9  cram dragons destroy fight things explode colu...          -0.2500   \n",
            "\n",
            "  sentiment_category  \n",
            "0           Positive  \n",
            "1           Positive  \n",
            "2           Positive  \n",
            "3           Positive  \n",
            "4           Negative  \n",
            "5           Positive  \n",
            "6            Neutral  \n",
            "7           Positive  \n",
            "8           Positive  \n",
            "9           Negative  \n"
          ]
        }
      ],
      "source": [
        "# define pos neg neu\n",
        "def sentiment_category(score):\n",
        "    if score > 0.05:\n",
        "        return 'Positive'\n",
        "    elif score < -0.05:\n",
        "        return 'Negative'\n",
        "    else:\n",
        "        return 'Neutral'\n",
        "\n",
        "merged_df['sentiment_category'] = merged_df['sentiment_score'].apply(sentiment_category)\n",
        "selected_columns_1 = merged_df[['review_content_lem_str', 'sentiment_score','sentiment_category' ]]\n",
        "print(selected_columns_1.head(10))\n"
      ]
    },
    {
      "cell_type": "code",
      "execution_count": 38,
      "metadata": {
        "id": "-dGU5TAm-hhc"
      },
      "outputs": [],
      "source": [
        "import matplotlib.pyplot as plt\n",
        "import seaborn as sns"
      ]
    },
    {
      "cell_type": "code",
      "execution_count": 39,
      "metadata": {
        "id": "gU5js7Ux-sTv",
        "colab": {
          "base_uri": "https://localhost:8080/",
          "height": 564
        },
        "outputId": "84fa4511-2af0-4e65-dc6b-cd22684cae63"
      },
      "outputs": [
        {
          "output_type": "display_data",
          "data": {
            "text/plain": [
              "<Figure size 800x600 with 1 Axes>"
            ],
            "image/png": "[encoded data removed]"
          },
          "metadata": {}
        }
      ],
      "source": [
        "# Categorize sentiment scores\n",
        "merged_df['sentiment_category'] = merged_df['sentiment_score'].apply(sentiment_category)\n",
        "\n",
        "# Count the number of occurrences of each sentiment category\n",
        "sentiment_counts = merged_df['sentiment_category'].value_counts()\n",
        "\n",
        "# Create a bar plot to visualize the sentiment categories\n",
        "plt.figure(figsize=(8, 6))\n",
        "sns.barplot(x=sentiment_counts.index, y=sentiment_counts.values)\n",
        "plt.title('Sentiment Categories Distribution')\n",
        "plt.xlabel('Sentiment Category')\n",
        "plt.ylabel('Count')\n",
        "plt.show()"
      ]
    },
    {
      "cell_type": "code",
      "execution_count": 40,
      "metadata": {
        "id": "4xFFOt04AtOk",
        "colab": {
          "base_uri": "https://localhost:8080/",
          "height": 564
        },
        "outputId": "ed9093fd-58a9-42cd-d239-7dfeb9132a84"
      },
      "outputs": [
        {
          "output_type": "display_data",
          "data": {
            "text/plain": [
              "<Figure size 800x600 with 1 Axes>"
            ],
            "image/png": "[encoded data removed]"
          },
          "metadata": {}
        }
      ],
      "source": [
        "# Group by sentiment_category and calculate mean revenue\n",
        "sentiment_revenue = merged_df.groupby('sentiment_category')['revenue'].mean()\n",
        "\n",
        "# Create a bar plot to visualize the average revenue for each sentiment category\n",
        "plt.figure(figsize=(8, 6))\n",
        "sns.barplot(x=sentiment_revenue.index, y=sentiment_revenue.values)\n",
        "plt.title('Average Revenue by Sentiment Category')\n",
        "plt.xlabel('Sentiment Category')\n",
        "plt.ylabel('Average Revenue')\n",
        "plt.show()"
      ]
    },
    {
      "cell_type": "markdown",
      "metadata": {
        "id": "l00PB8DK9I9I"
      },
      "source": [
        "## Regression"
      ]
    },
    {
      "cell_type": "code",
      "execution_count": 41,
      "metadata": {
        "id": "-TvJLCq-EsPq"
      },
      "outputs": [],
      "source": [
        "# Vectorize the text data\n",
        "vectorizer = CountVectorizer(max_df=0.95, min_df=2, stop_words='english')\n",
        "text_vectorized = vectorizer.fit_transform(merged_df['review_content_lem_str'])\n",
        "\n",
        "# Apply LDA topic modeling\n",
        "n_topics = 6  # Adjust this according to your needs\n",
        "lda = LatentDirichletAllocation(n_components=n_topics, random_state=42)\n",
        "lda.fit(text_vectorized)\n",
        "\n",
        "# Add LDA topic distribution to the dataset\n",
        "topic_distribution = lda.transform(text_vectorized)\n",
        "for i in range(n_topics):\n",
        "    merged_df[f'topic_{i}'] = topic_distribution[:, i]\n"
      ]
    },
    {
      "cell_type": "code",
      "execution_count": 42,
      "metadata": {
        "id": "981F7Rjkeg5o"
      },
      "outputs": [],
      "source": [
        "# Create a new dataframe with only the numeric columns needed for regression\n",
        "import numpy as np\n",
        "numeric_columns = merged_df.select_dtypes(include=np.number).columns\n",
        "regression_df = merged_df[numeric_columns]\n",
        "\n",
        "# Remove the target variable 'revenue' from the features (X) and keep it as the target (y)\n",
        "X = regression_df.drop(['revenue'], axis=1)\n",
        "y = regression_df['revenue']"
      ]
    },
    {
      "cell_type": "code",
      "execution_count": 43,
      "metadata": {
        "id": "FuqYTx99LIuC"
      },
      "outputs": [],
      "source": [
        "# Set up training model\n",
        "X_train, X_test, y_train, y_test = train_test_split(X, y, test_size=0.2, random_state=42)"
      ]
    },
    {
      "cell_type": "code",
      "execution_count": 44,
      "metadata": {
        "id": "tidjfUx_LXBq",
        "colab": {
          "base_uri": "https://localhost:8080/",
          "height": 75
        },
        "outputId": "2edc67af-5798-4981-a80e-7f50475c4d84"
      },
      "outputs": [
        {
          "output_type": "execute_result",
          "data": {
            "text/plain": [
              "LinearRegression()"
            ],
            "text/html": [
              "<style>#sk-container-id-1 {color: black;background-color: white;}#sk-container-id-1 pre{padding: 0;}#sk-container-id-1 div.sk-toggleable {background-color: white;}#sk-container-id-1 label.sk-toggleable__label {cursor: pointer;display: block;width: 100%;margin-bottom: 0;padding: 0.3em;box-sizing: border-box;text-align: center;}#sk-container-id-1 label.sk-toggleable__label-arrow:before {content: \"▸\";float: left;margin-right: 0.25em;color: #696969;}#sk-container-id-1 label.sk-toggleable__label-arrow:hover:before {color: black;}#sk-container-id-1 div.sk-estimator:hover label.sk-toggleable__label-arrow:before {color: black;}#sk-container-id-1 div.sk-toggleable__content {max-height: 0;max-width: 0;overflow: hidden;text-align: left;background-color: #f0f8ff;}#sk-container-id-1 div.sk-toggleable__content pre {margin: 0.2em;color: black;border-radius: 0.25em;background-color: #f0f8ff;}#sk-container-id-1 input.sk-toggleable__control:checked~div.sk-toggleable__content {max-height: 200px;max-width: 100%;overflow: auto;}#sk-container-id-1 input.sk-toggleable__control:checked~label.sk-toggleable__label-arrow:before {content: \"▾\";}#sk-container-id-1 div.sk-estimator input.sk-toggleable__control:checked~label.sk-toggleable__label {background-color: #d4ebff;}#sk-container-id-1 div.sk-label input.sk-toggleable__control:checked~label.sk-toggleable__label {background-color: #d4ebff;}#sk-container-id-1 input.sk-hidden--visually {border: 0;clip: rect(1px 1px 1px 1px);clip: rect(1px, 1px, 1px, 1px);height: 1px;margin: -1px;overflow: hidden;padding: 0;position: absolute;width: 1px;}#sk-container-id-1 div.sk-estimator {font-family: monospace;background-color: #f0f8ff;border: 1px dotted black;border-radius: 0.25em;box-sizing: border-box;margin-bottom: 0.5em;}#sk-container-id-1 div.sk-estimator:hover {background-color: #d4ebff;}#sk-container-id-1 div.sk-parallel-item::after {content: \"\";width: 100%;border-bottom: 1px solid gray;flex-grow: 1;}#sk-container-id-1 div.sk-label:hover label.sk-toggleable__label {background-color: #d4ebff;}#sk-container-id-1 div.sk-serial::before {content: \"\";position: absolute;border-left: 1px solid gray;box-sizing: border-box;top: 0;bottom: 0;left: 50%;z-index: 0;}#sk-container-id-1 div.sk-serial {display: flex;flex-direction: column;align-items: center;background-color: white;padding-right: 0.2em;padding-left: 0.2em;position: relative;}#sk-container-id-1 div.sk-item {position: relative;z-index: 1;}#sk-container-id-1 div.sk-parallel {display: flex;align-items: stretch;justify-content: center;background-color: white;position: relative;}#sk-container-id-1 div.sk-item::before, #sk-container-id-1 div.sk-parallel-item::before {content: \"\";position: absolute;border-left: 1px solid gray;box-sizing: border-box;top: 0;bottom: 0;left: 50%;z-index: -1;}#sk-container-id-1 div.sk-parallel-item {display: flex;flex-direction: column;z-index: 1;position: relative;background-color: white;}#sk-container-id-1 div.sk-parallel-item:first-child::after {align-self: flex-end;width: 50%;}#sk-container-id-1 div.sk-parallel-item:last-child::after {align-self: flex-start;width: 50%;}#sk-container-id-1 div.sk-parallel-item:only-child::after {width: 0;}#sk-container-id-1 div.sk-dashed-wrapped {border: 1px dashed gray;margin: 0 0.4em 0.5em 0.4em;box-sizing: border-box;padding-bottom: 0.4em;background-color: white;}#sk-container-id-1 div.sk-label label {font-family: monospace;font-weight: bold;display: inline-block;line-height: 1.2em;}#sk-container-id-1 div.sk-label-container {text-align: center;}#sk-container-id-1 div.sk-container {/* jupyter's `normalize.less` sets `[hidden] { display: none; }` but bootstrap.min.css set `[hidden] { display: none !important; }` so we also need the `!important` here to be able to override the default hidden behavior on the sphinx rendered scikit-learn.org. See: https://github.com/scikit-learn/scikit-learn/issues/21755 */display: inline-block !important;position: relative;}#sk-container-id-1 div.sk-text-repr-fallback {display: none;}</style><div id=\"sk-container-id-1\" class=\"sk-top-container\"><div class=\"sk-text-repr-fallback\"><pre>LinearRegression()</pre><b>In a Jupyter environment, please rerun this cell to show the HTML representation or trust the notebook. <br />On GitHub, the HTML representation is unable to render, please try loading this page with nbviewer.org.</b></div><div class=\"sk-container\" hidden><div class=\"sk-item\"><div class=\"sk-estimator sk-toggleable\"><input class=\"sk-toggleable__control sk-hidden--visually\" id=\"sk-estimator-id-1\" type=\"checkbox\" checked><label for=\"sk-estimator-id-1\" class=\"sk-toggleable__label sk-toggleable__label-arrow\">LinearRegression</label><div class=\"sk-toggleable__content\"><pre>LinearRegression()</pre></div></div></div></div></div>"
            ]
          },
          "metadata": {},
          "execution_count": 44
        }
      ],
      "source": [
        "# Train the model\n",
        "from sklearn.impute import SimpleImputer\n",
        "\n",
        "# Impute missing values using the mean of each column\n",
        "imputer = SimpleImputer(strategy='mean')\n",
        "X_train_imputed = imputer.fit_transform(X_train)\n",
        "X_test_imputed = imputer.transform(X_test)\n",
        "\n",
        "# Train the model with the imputed data\n",
        "regressor = LinearRegression()\n",
        "regressor.fit(X_train_imputed, y_train)"
      ]
    },
    {
      "cell_type": "code",
      "execution_count": 45,
      "metadata": {
        "id": "MBuwBm3uLa6Z",
        "colab": {
          "base_uri": "https://localhost:8080/",
          "height": 0
        },
        "outputId": "46873594-b8f3-4e61-ac61-0844442e34db"
      },
      "outputs": [
        {
          "output_type": "stream",
          "name": "stdout",
          "text": [
            "Mean Squared Error: 1.241609585273355e+16\n"
          ]
        }
      ],
      "source": [
        "# Evaluate the model\n",
        "y_pred = regressor.predict(X_test_imputed)\n",
        "mse = mean_squared_error(y_test, y_pred)\n",
        "print(f'Mean Squared Error: {mse}')"
      ]
    },
    {
      "cell_type": "code",
      "execution_count": 46,
      "metadata": {
        "id": "Jb6HZBkC-AVW",
        "colab": {
          "base_uri": "https://localhost:8080/",
          "height": 0
        },
        "outputId": "ba74f766-7787-4f91-e955-152c2bd30874"
      },
      "outputs": [
        {
          "output_type": "stream",
          "name": "stdout",
          "text": [
            "R-squared: 0.6778530812358824\n",
            "Mean Absolute Error: 54528021.07172548\n"
          ]
        }
      ],
      "source": [
        "# Calculate R-squared and Mean Absolute Error\n",
        "\n",
        "from sklearn.metrics import r2_score, mean_absolute_error\n",
        "\n",
        "r2 = r2_score(y_test, y_pred)\n",
        "mae = mean_absolute_error(y_test, y_pred)\n",
        "\n",
        "print(f'R-squared: {r2}')\n",
        "print(f'Mean Absolute Error: {mae}')"
      ]
    },
    {
      "cell_type": "code",
      "execution_count": 47,
      "metadata": {
        "id": "tKk99qAB3w7z",
        "colab": {
          "base_uri": "https://localhost:8080/",
          "height": 564
        },
        "outputId": "2e61bca5-6a98-432d-fb03-4aae2fdc419f"
      },
      "outputs": [
        {
          "output_type": "display_data",
          "data": {
            "text/plain": [
              "<Figure size 1000x600 with 1 Axes>"
            ],
            "image/png": "[encoded data removed]"
          },
          "metadata": {}
        }
      ],
      "source": [
        "# Create a scatter plot \n",
        "\n",
        "plt.figure(figsize=(10, 6))\n",
        "sns.scatterplot(x=y_test, y=y_pred, alpha=0.5)\n",
        "plt.xlabel('True Revenue')\n",
        "plt.ylabel('Predicted Revenue')\n",
        "\n",
        "# Add a diagonal line to visualize perfect predictions\n",
        "min_val = min(min(y_test), min(y_pred))\n",
        "max_val = max(max(y_test), max(y_pred))\n",
        "plt.plot([min_val, max_val], [min_val, max_val], color='red', linestyle='--')\n",
        "\n",
        "plt.title('True vs. Predicted Revenue')\n",
        "plt.show()\n"
      ]
    },
    {
      "cell_type": "markdown",
      "metadata": {
        "id": "MS_xXf6r4Qky"
      },
      "source": [
        "We have evaluated our model using three different metrics:\n",
        "\n",
        "Mean Squared Error (MSE): This metric measures the average squared difference between the true revenue values and the predicted revenue values. Our model's MSE is approximately 1.24 x 10^16. A lower MSE value indicates a better fit, but it's important to note that this value is sensitive to outliers.\n",
        "R-squared: This metric represents the proportion of the variance in the dependent variable (revenue) that is predictable from the independent variables (our features). Our model's R-squared value is 0.678, which means that about 67.8% of the variance in the revenue can be explained by our model. In general, a higher R-squared value indicates a better fit, with 1 being the highest possible value.\n",
        "\n",
        "Mean Absolute Error (MAE): This metric calculates the average absolute difference between the true revenue values and the predicted revenue values. Our model's MAE is approximately 54,528,021. This value helps us understand the average error in our predictions, with lower values indicating better performance.\n",
        "\n",
        "In summary, our linear regression model has an R-squared of 0.678, which means it can explain about 67.8% of the variance in movie revenue. However, the model's MAE of 54,528,021 suggests that, on average, the predictions have an error of around 54.5 million dollars. While the model provides some insights into the relationship between the features and movie revenue, there is still room for improvement. Further analysis and feature engineering, as well as trying different machine learning models, may help increase the model's performance and achieve better predictions.\n",
        "\n",
        "\n",
        "\n"
      ]
    },
    {
      "cell_type": "markdown",
      "source": [
        "# Bag of Words / Naive Bayes"
      ],
      "metadata": {
        "id": "6-IuiFAh784d"
      }
    },
    {
      "cell_type": "code",
      "source": [
        "import numpy as np\n",
        "import pandas as pd\n",
        "from sklearn.feature_extraction.text import CountVectorizer\n",
        "from sklearn.feature_extraction.text import TfidfVectorizer\n",
        "from sklearn.naive_bayes import MultinomialNB"
      ],
      "metadata": {
        "id": "mfiq4EJf8B4M"
      },
      "execution_count": 48,
      "outputs": []
    },
    {
      "cell_type": "code",
      "source": [
        "# Creating a column that will categorize the movie into a specific bucket based on revenue\n",
        "merged_df['revenue_bucket'] = pd.cut(merged_df['revenue'], bins=10, labels=['Bucket 1', 'Bucket 2', 'Bucket 3', 'Bucket 4', 'Bucket 5', 'Bucket 6', 'Bucket 7', 'Bucket 8', 'Bucket 9', 'Bucket 10'])"
      ],
      "metadata": {
        "id": "M_DCxVlf8HHG"
      },
      "execution_count": 49,
      "outputs": []
    },
    {
      "cell_type": "code",
      "source": [
        "# Shows what the bucket edges are\n",
        "buckets, bins = pd.cut(merged_df['revenue'], bins=10, labels=['Bucket 1', 'Bucket 2', 'Bucket 3', 'Bucket 4', 'Bucket 5', 'Bucket 6', 'Bucket 7', 'Bucket 8', 'Bucket 9', 'Bucket 10'], retbins=True)\n",
        "np.set_printoptions(suppress=True, precision=8)\n",
        "print(bins)\n"
      ],
      "metadata": {
        "id": "19EY5y1K8HtU",
        "colab": {
          "base_uri": "https://localhost:8080/",
          "height": 0
        },
        "outputId": "9b54073a-c240-4aa0-d266-5caa120d022b"
      },
      "execution_count": 50,
      "outputs": [
        {
          "output_type": "stream",
          "name": "stdout",
          "text": [
            "[-2.78796509e+06  2.78796509e+08  5.57593017e+08  8.36389526e+08\n",
            "  1.11518603e+09  1.39398254e+09  1.67277905e+09  1.95157556e+09\n",
            "  2.23037207e+09  2.50916858e+09  2.78796509e+09]\n"
          ]
        }
      ]
    },
    {
      "cell_type": "code",
      "source": [
        "buckets = merged_df['revenue_bucket']\n",
        "reviews = merged_df['review_content_lem_str']"
      ],
      "metadata": {
        "id": "KTXDNmH28HwH"
      },
      "execution_count": 51,
      "outputs": []
    },
    {
      "cell_type": "code",
      "source": [
        "#cross-tabulation of category column.\n",
        "num_freq=merged_df['revenue_bucket'].value_counts()\n",
        "print (num_freq)"
      ],
      "metadata": {
        "id": "qGS1FKgjVC6V",
        "colab": {
          "base_uri": "https://localhost:8080/",
          "height": 0
        },
        "outputId": "cec5aa91-2002-4e6a-8ba2-3ff8e8f22b9e"
      },
      "execution_count": 52,
      "outputs": [
        {
          "output_type": "stream",
          "name": "stdout",
          "text": [
            "Bucket 1     773426\n",
            "Bucket 2      49571\n",
            "Bucket 3      20245\n",
            "Bucket 4      10147\n",
            "Bucket 5       2626\n",
            "Bucket 6       1066\n",
            "Bucket 10       313\n",
            "Bucket 7        199\n",
            "Bucket 8          0\n",
            "Bucket 9          0\n",
            "Name: revenue_bucket, dtype: int64\n"
          ]
        }
      ]
    },
    {
      "cell_type": "code",
      "source": [
        "# 90% of movies fall under $278M\n",
        "773426/(49571+773426+20245+10147+2626+1066+313+199)"
      ],
      "metadata": {
        "id": "iR5wKbSm8HzF",
        "colab": {
          "base_uri": "https://localhost:8080/",
          "height": 0
        },
        "outputId": "1012da7a-ebd2-494a-c830-f2018f9c4965"
      },
      "execution_count": 53,
      "outputs": [
        {
          "output_type": "execute_result",
          "data": {
            "text/plain": [
              "0.9018567082520497"
            ]
          },
          "metadata": {},
          "execution_count": 53
        }
      ]
    },
    {
      "cell_type": "code",
      "source": [
        "#Categories are literal labels, but it is better for machine learning algorithms just to work with numbers.\n",
        "#so we will encode them using LabelEncoder, which encode labels with value between 0 and n_classes-1.\n",
        "\n",
        "#Class LabelEncoder allows to encode labels with values between 0 and n_classes-1.\n",
        "\n",
        "from sklearn.preprocessing import LabelEncoder\n",
        "encoder = LabelEncoder()                       #Encode labels with value between 0 and n_classes-1.\n",
        "ncategories = encoder.fit_transform(buckets)\n"
      ],
      "metadata": {
        "id": "Y1bh-LeH8H2C"
      },
      "execution_count": 54,
      "outputs": []
    },
    {
      "cell_type": "code",
      "source": [
        "#What values exist within category?\n",
        "labels_category = (set(ncategories))\n",
        "print('possible encoded categories',labels_category)"
      ],
      "metadata": {
        "id": "xftp98rpXuOd",
        "colab": {
          "base_uri": "https://localhost:8080/",
          "height": 0
        },
        "outputId": "af0b089e-9f61-4020-e8b9-9ee801ff5d5d"
      },
      "execution_count": 55,
      "outputs": [
        {
          "output_type": "stream",
          "name": "stdout",
          "text": [
            "possible encoded categories {0, 1, 2, 3, 4, 5, 6, 7}\n"
          ]
        }
      ]
    },
    {
      "cell_type": "code",
      "source": [
        "#Samples should be first shuffled and then split into a pair of train and test sets. \n",
        "#Make sure you shuffle your training data before fitting the model.\n",
        "\n",
        "from sklearn.utils import shuffle\n",
        "titles, ncategories = shuffle(reviews, ncategories, random_state=0) #shuffle my matrices randomly\n",
        "\n",
        "N = len(titles)\n",
        "Ntrain = int(N * 0.7) #we use 70% of the data as training set"
      ],
      "metadata": {
        "id": "DaOwjK1j8H5C"
      },
      "execution_count": 56,
      "outputs": []
    },
    {
      "cell_type": "code",
      "source": [
        "X_train = titles[:Ntrain]\n",
        "print('X_train.shape',X_train.shape)\n",
        "y_train = ncategories[:Ntrain]\n",
        "print('y_train.shape',y_train.shape)\n",
        "X_test = titles[Ntrain:]\n",
        "print('X_test.shape',X_test.shape)\n",
        "y_test = ncategories[Ntrain:]\n",
        "print('y_test.shape',y_test.shape)"
      ],
      "metadata": {
        "id": "qrkR-_DU8SoP",
        "colab": {
          "base_uri": "https://localhost:8080/",
          "height": 0
        },
        "outputId": "43e08b8f-507c-4b28-c2a4-8de90935023b"
      },
      "execution_count": 57,
      "outputs": [
        {
          "output_type": "stream",
          "name": "stdout",
          "text": [
            "X_train.shape (600315,)\n",
            "y_train.shape (600315,)\n",
            "X_test.shape (257278,)\n",
            "y_test.shape (257278,)\n"
          ]
        }
      ]
    },
    {
      "cell_type": "code",
      "source": [
        "print (257278/(257278+600315))"
      ],
      "metadata": {
        "id": "yoa8FBo98Sta",
        "colab": {
          "base_uri": "https://localhost:8080/",
          "height": 0
        },
        "outputId": "81c1788f-5c05-4971-b202-b573504b77f4"
      },
      "execution_count": 58,
      "outputs": [
        {
          "output_type": "stream",
          "name": "stdout",
          "text": [
            "0.30000011660542936\n"
          ]
        }
      ]
    },
    {
      "cell_type": "code",
      "source": [
        "#create CountVectorizer object.\n",
        "coun_vect=CountVectorizer(stop_words=\"english\", lowercase=True)\n",
        "\n",
        "#generate training BoW vectors.\n",
        "X_train_bow = coun_vect.fit_transform(X_train)\n",
        "\n",
        "#generate test BoW vectors.\n",
        "X_test_bow = coun_vect.transform(X_test)"
      ],
      "metadata": {
        "id": "kflAMBdr8WJX"
      },
      "execution_count": 59,
      "outputs": []
    },
    {
      "cell_type": "code",
      "source": [
        "print(\"Unique Vocabulary: \",len(coun_vect.vocabulary_))"
      ],
      "metadata": {
        "id": "rFC86Jsx8bow",
        "colab": {
          "base_uri": "https://localhost:8080/",
          "height": 0
        },
        "outputId": "c19c708e-7f0a-48ef-f970-04a73439bd37"
      },
      "execution_count": 60,
      "outputs": [
        {
          "output_type": "stream",
          "name": "stdout",
          "text": [
            "Unique Vocabulary:  78737\n"
          ]
        }
      ]
    },
    {
      "cell_type": "code",
      "source": [
        "#generate MultinomialNB object.\n",
        "clf=MultinomialNB()\n",
        "\n",
        "#Fit the Naive Bayes classifier to the train set.\n",
        "text_clf = clf.fit(X_train_bow, y_train)"
      ],
      "metadata": {
        "id": "1yqt5a7Q8bt4"
      },
      "execution_count": 61,
      "outputs": []
    },
    {
      "cell_type": "code",
      "source": [
        "#apply the classifier to the test set and calculate the predicted values.\n",
        "print('Predicting...')\n",
        "predicted = text_clf.predict(X_test_bow)"
      ],
      "metadata": {
        "id": "_YHKXXjy8fM7",
        "colab": {
          "base_uri": "https://localhost:8080/",
          "height": 0
        },
        "outputId": "ff93a4d1-ca74-4aca-f2ef-60f5ed41f1b7"
      },
      "execution_count": 62,
      "outputs": [
        {
          "output_type": "stream",
          "name": "stdout",
          "text": [
            "Predicting...\n"
          ]
        }
      ]
    },
    {
      "cell_type": "code",
      "source": [
        "from sklearn import metrics\n",
        "\n",
        "print('accuracy_score',metrics.accuracy_score(y_test,predicted))\n",
        "print('Reporting...')"
      ],
      "metadata": {
        "id": "2A-q5SBv8g_n",
        "colab": {
          "base_uri": "https://localhost:8080/",
          "height": 0
        },
        "outputId": "1ef205bb-93e2-40ee-9ac5-82694ee8ae7e"
      },
      "execution_count": 63,
      "outputs": [
        {
          "output_type": "stream",
          "name": "stdout",
          "text": [
            "accuracy_score 0.899773785554925\n",
            "Reporting...\n"
          ]
        }
      ]
    }
  ],
  "metadata": {
    "colab": {
      "provenance": [],
      "gpuType": "A100",
      "include_colab_link": true
    },
    "kernelspec": {
      "display_name": "Python 3",
      "name": "python3"
    },
    "language_info": {
      "name": "python"
    },
    "accelerator": "GPU",
    "gpuClass": "standard"
  },
  "nbformat": 4,
  "nbformat_minor": 0
}